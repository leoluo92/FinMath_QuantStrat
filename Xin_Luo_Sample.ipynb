{
 "cells": [
  {
   "cell_type": "markdown",
   "metadata": {},
   "source": [
    "# Sample Code _ Xin Luo"
   ]
  },
  {
   "cell_type": "markdown",
   "metadata": {},
   "source": [
    "This is for building a pair trading strategy for PBE vs. XBI\n"
   ]
  },
  {
   "cell_type": "code",
   "execution_count": 1,
   "metadata": {
    "collapsed": true
   },
   "outputs": [],
   "source": [
    "%matplotlib inline"
   ]
  },
  {
   "cell_type": "code",
   "execution_count": 2,
   "metadata": {
    "collapsed": true
   },
   "outputs": [],
   "source": [
    "import matplotlib.pyplot as plt\n",
    "import pandas as pd\n",
    "import numpy as np\n",
    "import scipy as sp\n",
    "import quandl\n",
    "import functools\n",
    "import seaborn as sns\n",
    "import ggplot as gg"
   ]
  },
  {
   "cell_type": "markdown",
   "metadata": {},
   "source": [
    "# Read and clean data"
   ]
  },
  {
   "cell_type": "code",
   "execution_count": 11,
   "metadata": {
    "collapsed": false
   },
   "outputs": [
    {
     "name": "stdout",
     "output_type": "stream",
     "text": [
      "            SIVR:Open  SIVR:High  SIVR:Low  SIVR:Close  SIVR:Volume  \\\n",
      "Date                                                                  \n",
      "2015-12-24      14.06    14.1300     14.06     14.0600      34657.0   \n",
      "2015-12-28      13.80    13.8000     13.61     13.6300     127405.0   \n",
      "2015-12-29      13.74    13.7875     13.65     13.6800     175927.0   \n",
      "2015-12-30      13.56    13.6100     13.55     13.5900     233516.0   \n",
      "2015-12-31      13.57    13.6354     13.55     13.5601     114595.0   \n",
      "\n",
      "            SIVR:Dividend  SIVR:Split  SIVR:Adj_Open  SIVR:Adj_High  \\\n",
      "Date                                                                  \n",
      "2015-12-24            0.0         1.0          14.06        14.1300   \n",
      "2015-12-28            0.0         1.0          13.80        13.8000   \n",
      "2015-12-29            0.0         1.0          13.74        13.7875   \n",
      "2015-12-30            0.0         1.0          13.56        13.6100   \n",
      "2015-12-31            0.0         1.0          13.57        13.6354   \n",
      "\n",
      "            SIVR:Adj_Low       ...        SLV:Low  SLV:Close  SLV:Volume  \\\n",
      "Date                           ...                                         \n",
      "2015-12-24         14.06       ...        13.6601      13.69   3277167.0   \n",
      "2015-12-28         13.61       ...        13.2200      13.29   5504691.0   \n",
      "2015-12-29         13.65       ...        13.2600      13.27   3561891.0   \n",
      "2015-12-30         13.55       ...        13.1600      13.21   2848606.0   \n",
      "2015-12-31         13.55       ...        13.1600      13.19   3489142.0   \n",
      "\n",
      "            SLV:Dividend  SLV:Split  SLV:Adj_Open  SLV:Adj_High  SLV:Adj_Low  \\\n",
      "Date                                                                           \n",
      "2015-12-24           0.0        1.0         13.67         13.72      13.6601   \n",
      "2015-12-28           0.0        1.0         13.38         13.40      13.2200   \n",
      "2015-12-29           0.0        1.0         13.36         13.39      13.2600   \n",
      "2015-12-30           0.0        1.0         13.20         13.22      13.1600   \n",
      "2015-12-31           0.0        1.0         13.20         13.25      13.1600   \n",
      "\n",
      "            SLV:Adj_Close  SLV:Adj_Volume  \n",
      "Date                                       \n",
      "2015-12-24          13.69       3277167.0  \n",
      "2015-12-28          13.29       5504691.0  \n",
      "2015-12-29          13.27       3561891.0  \n",
      "2015-12-30          13.21       2848606.0  \n",
      "2015-12-31          13.19       3489142.0  \n",
      "\n",
      "[5 rows x 24 columns]\n"
     ]
    }
   ],
   "source": [
    "#save data to cache\n",
    "@functools.lru_cache(maxsize=16)\n",
    "def fetch_quandl(my_securities):\n",
    "    qdata = quandl.get(list(my_securities), returns=\"pandas\", authtoken=\"TzTcmaHpPQtRD3s_g2Z3\")\n",
    "    return qdata\n",
    "\n",
    "PAIRS = ['SIVR','SLV']\n",
    "STARTDATE  = '2013-12-02'\n",
    "ENDDATE = '2015-12-31'\n",
    "\n",
    "raw_data = fetch_quandl(('EOD/'+PAIRS[0], 'EOD/'+PAIRS[1]))\n",
    "raw_data = raw_data[STARTDATE:ENDDATE]\n",
    "#print(raw_data.head())\n",
    "\n",
    "#clean and make data look nicer\n",
    "def clean_quandl_columns(dataframe):\n",
    "    replacement_columns = {}\n",
    "    for c in dataframe.columns:\n",
    "        series_name, variable = c.split(' - ')\n",
    "        source_name, asset = series_name.split('/')\n",
    "        replacement_columns[c] = asset+\":\"+variable\n",
    "    renamed_data = dataframe.rename(columns=replacement_columns)\n",
    "    return renamed_data\n",
    "renamed_data = clean_quandl_columns(raw_data)\n",
    "print(renamed_data.tail())\n"
   ]
  },
  {
   "cell_type": "code",
   "execution_count": 20,
   "metadata": {
    "collapsed": false
   },
   "outputs": [
    {
     "name": "stdout",
     "output_type": "stream",
     "text": [
      "            A:Adj_Volume  A:Adj_Close  B:Adj_Volume  B:Adj_Close  Nt\n",
      "Date                                                                \n",
      "2013-12-02      244300.0      18.9200    11111500.0        18.46 NaN\n",
      "2013-12-03      225100.0      18.8700     6912500.0        18.42 NaN\n",
      "2013-12-04      143700.0      19.4500    11379500.0        19.00 NaN\n",
      "2013-12-05       81200.0      19.1600     7908800.0        18.69 NaN\n",
      "2013-12-06      142200.0      19.2599     7466700.0        18.76 NaN\n"
     ]
    }
   ],
   "source": [
    "import itertools\n",
    "pd.options.mode.chained_assignment = None    #mute the warning\n",
    "df2 = renamed_data[[a+b for a,b in itertools.product(PAIRS,[':Adj_Volume',':Adj_Close'])]]\n",
    "#df2 = renamed_data[[\"SIVR:Adj_Volume\",\"SIVR:Adj_Close\",\"SLV:Adj_Volume\",\"SLV:Adj_Close\"]]\n",
    "df2.columns = [\"A:Adj_Volume\", \"A:Adj_Close\", \"B:Adj_Volume\", \"B:Adj_Close\"]\n",
    "#df2.ix[:,'Nt'] = np.nan\n",
    "df2['Nt'] = np.nan\n",
    "print(df2.head())"
   ]
  },
  {
   "cell_type": "code",
   "execution_count": 21,
   "metadata": {
    "collapsed": false,
    "scrolled": true
   },
   "outputs": [],
   "source": [
    "#Get the 15-day median of rolling volume as required\n",
    "DollarVolume = df2['A:Adj_Close']  * df2['A:Adj_Volume']\n",
    "N = 15\n",
    "Ntdata = DollarVolume.rolling(center=False,window =N).median()\n",
    "df2.ix[N-1:,'Nt'] = Ntdata\n",
    "df2['month'] = df2.index.month\n",
    "\n",
    "#Derive a column that indicate end of month\n",
    "df2['endofmonth'] = df2.month-df2.month.shift(-1)\n",
    "df2.ix[-1,'endofmonth']=0\n",
    "df2['endofmonth'][abs(df2['endofmonth'])>0] =1"
   ]
  },
  {
   "cell_type": "code",
   "execution_count": null,
   "metadata": {
    "collapsed": false,
    "scrolled": false
   },
   "outputs": [],
   "source": [
    "# briefly see the data\n",
    "df2.head()"
   ]
  },
  {
   "cell_type": "markdown",
   "metadata": {},
   "source": [
    "# Build the Strategy"
   ]
  },
  {
   "cell_type": "code",
   "execution_count": null,
   "metadata": {
    "collapsed": false
   },
   "outputs": [],
   "source": [
    "# building the stragety:\n",
    "# M: M day avg return\n",
    "# g: enter if abs(A - B) greater than g\n",
    "# f: quit if abs(A - B) smaller than f\n",
    "# s: stoploss if current cumulative ret <  - K*s\n",
    "\n",
    "def run_strat(df2, M, g, j, s):\n",
    "    #or we could use simple\n",
    "    #df2['A_Mret'] = df2['A:Adj_Close'].pct_change(periods = M-1)\n",
    "    #df2['B_Mret'] = df2['B:Adj_Close'].pct_change(periods = M-1)\n",
    "    tb = df2\n",
    "    tb['A_Mret'] = tb['A:Adj_Close'].rolling(M).apply(lambda x: np.log(x[-1]/x[0]))\n",
    "    tb['B_Mret'] = tb['B:Adj_Close'].rolling(M).apply(lambda x: np.log(x[-1]/x[0]))\n",
    "    tb['Diff_Mret'] = tb['A_Mret'] - tb['B_Mret'] #diff or Mret\n",
    "    tb['Stoplose'] =0 #stoploss indicator\n",
    "    tradingday = max(M, 15)\n",
    "    plt.plot(tb['Diff_Mret'])\n",
    "    \n",
    "    preidx = tb.index[tradingday-1]\n",
    "    testdata = tb[tradingday:];\n",
    "    entry_gtc = 0 #entry gross traded capital\n",
    "    A_Pos_i = 0 # Position of stock A in time i\n",
    "    B_Pos_i = 0\n",
    "    daypnl =[]\n",
    "    cur_ret = 0\n",
    "    for i, eom in zip(testdata.index, testdata.endofmonth):\n",
    "        dollar_size = tb.ix[i, 'Nt'] / 100 #* tb.ix[i, 'A:Adj_Close']\n",
    "        dayret = (tb.ix[i, 'A:Adj_Close'] - tb.ix[preidx, 'A:Adj_Close']) * A_Pos_i  + \\\n",
    "                (tb.ix[i, 'B:Adj_Close'] - tb.ix[preidx, 'B:Adj_Close']) * B_Pos_i\n",
    "        daypnl.append(dayret)\n",
    "        cur_ret += dayret\n",
    "        #if end of month, close position\n",
    "        if(abs(eom)> 0.1):\n",
    "            A_Pos_i = 0\n",
    "            B_Pos_i = 0\n",
    "            entry_gtc = 0\n",
    "            cur_ret = 0\n",
    "        #if satisfy stoploss, then stoploss\n",
    "        elif(abs(entry_gtc)>1 and cur_ret/entry_gtc <  -s):\n",
    "            A_Pos_i = 0\n",
    "            B_Pos_i = 0\n",
    "            entry_gtc = 0\n",
    "            cur_ret = 0\n",
    "        #if satisfy buy or sell, then get position\n",
    "        elif(abs(A_Pos_i)<1 and(abs(tb.ix[i, 'Diff_Mret']) > g)):\n",
    "            A_Pos_i = - np.sign(abs(tb.ix[i, 'Diff_Mret']))* int(round(dollar_size / tb.ix[i, 'A:Adj_Close'])) \n",
    "            B_Pos_i = + np.sign(abs(tb.ix[i, 'Diff_Mret']))* int(round(dollar_size / tb.ix[i, 'B:Adj_Close'])) \n",
    "            entry_gtc = abs(A_Pos_i * tb.ix[i, 'A:Adj_Close']) + \\\n",
    "                abs(B_Pos_i * tb.ix[i, 'B:Adj_Close'])\n",
    "        #if satisfy close position, then close\n",
    "        elif (abs(tb.ix[i, 'Diff_Mret'])) < j or ((tb.ix[i, 'Diff_Mret']* tb.ix[preidx, 'Diff_Mret']) < 0):\n",
    "            A_Pos_i = 0\n",
    "            B_Pos_i = 0\n",
    "            entry_gtc = 0\n",
    "            cur_ret = 0\n",
    "        preidx = i\n",
    "    pnl = np.cumsum(daypnl)\n",
    "    pnl_final = sum(daypnl)\n",
    "    return (pnl, pnl_final)"
   ]
  },
  {
   "cell_type": "code",
   "execution_count": null,
   "metadata": {
    "collapsed": false,
    "scrolled": true
   },
   "outputs": [],
   "source": [
    "#Run one strat and test running time\n",
    "M, g, j, s = [10, 0.002, 0.0001, 0.01]\n",
    "from time import time\n",
    "t1 = time()\n",
    "(pnl, pnl_final) = run_strat(df2, M, g, j, s)\n",
    "t2 = time()\n",
    "print (t2-t1)   \n"
   ]
  },
  {
   "cell_type": "code",
   "execution_count": null,
   "metadata": {
    "collapsed": false
   },
   "outputs": [],
   "source": [
    "#see the P&L for one strategy\n",
    "#M, g, j, s = [10, 0.002, 0.0001, 0.01]\n",
    "print(pnl_final)\n",
    "plt.plot(pnl)"
   ]
  },
  {
   "cell_type": "markdown",
   "metadata": {
    "collapsed": false
   },
   "source": [
    "# Analyze the the effect of different parameter"
   ]
  },
  {
   "cell_type": "markdown",
   "metadata": {},
   "source": [
    "Since the stop loss is seldom used, first we keep s stable and change g,f and see what will happen"
   ]
  },
  {
   "cell_type": "code",
   "execution_count": null,
   "metadata": {
    "collapsed": false
   },
   "outputs": [],
   "source": [
    "# draw heat-map for illustration\n",
    "def drawMap(df2, M,g,j,s,ax):\n",
    "    column_names = ['M','g','j','s','pnl'];\n",
    "    result = pd.DataFrame(columns=column_names)\n",
    "    for i in range(0, len(g)):\n",
    "        for k in range(0, len(j)):\n",
    "            (pnl, pnl_final) = run_strat(df2, M, g[i], j[k], s)\n",
    "            #result[j][k] = pnl_final\n",
    "            a = pd.DataFrame([[M, g[i], j[k], s,pnl_final]],columns=column_names )\n",
    "            result = result.append(a ,ignore_index=True)\n",
    "    rs = result.pivot(\"g\",\"j\",\"pnl\")\n",
    "    sns.heatmap(rs, ax=ax)\n",
    "    ax.set_title('M = '+str(M))\n",
    "    return\n"
   ]
  },
  {
   "cell_type": "code",
   "execution_count": null,
   "metadata": {
    "collapsed": false
   },
   "outputs": [],
   "source": [
    "M=[5,10,15,20]\n",
    "g = np.linspace(0.005,0.03,num=6)\n",
    "j = np.linspace(0.00001,0.00491, num = 8)\n",
    "s = 0.01\n",
    "#result = np.zeros((len(g),len(f))) \n",
    "fig,axn = plt.subplots(2, 2, sharex=True, sharey=True, figsize=(10,10))\n",
    "for i, ax in enumerate(axn.flat):\n",
    "    drawMap(df2, M[i],g,j,s,ax)\n"
   ]
  },
  {
   "cell_type": "markdown",
   "metadata": {
    "collapsed": false
   },
   "source": [
    "From the chart, we would see that we need to firstly pick a good M, and then as g is in the range, the higher the better.\n",
    "For j (take profit), there is not trend for it."
   ]
  },
  {
   "cell_type": "code",
   "execution_count": null,
   "metadata": {
    "collapsed": false
   },
   "outputs": [],
   "source": []
  },
  {
   "cell_type": "markdown",
   "metadata": {},
   "source": [
    "# Find the global max with fix M"
   ]
  },
  {
   "cell_type": "code",
   "execution_count": null,
   "metadata": {
    "collapsed": false
   },
   "outputs": [],
   "source": [
    "# find the global max with fix M\n",
    "# actually this type of function does not work good for optimization \n",
    "from scipy.optimize import fmin\n",
    "M = 10\n",
    "def f(t): \n",
    "    g,j,s = t\n",
    "    (pnl, pnl_final) = run_strat(df2, M, g, j, s)\n",
    "    return -pnl_final\n",
    "fmin(f,np.array([ 0.03,0.01,0.01]))\n"
   ]
  },
  {
   "cell_type": "markdown",
   "metadata": {},
   "source": [
    "Actually using optimize here is not very applicable. Changing parameter will affect the result a lot. We'd better run a brute force search to find the maximum"
   ]
  },
  {
   "cell_type": "markdown",
   "metadata": {},
   "source": [
    "# Alternative way to write algorithm, with detailed output"
   ]
  },
  {
   "cell_type": "markdown",
   "metadata": {},
   "source": [
    "Here is a slow strategy, but we can see everyday Position of two securities, daily pnl, and how strategy is decided everyday\n"
   ]
  },
  {
   "cell_type": "code",
   "execution_count": null,
   "metadata": {
    "collapsed": false
   },
   "outputs": [],
   "source": [
    "\n",
    "def run_strat_with_table(df2, M, g, f, s):\n",
    "    tb = df2\n",
    "    tb['A_Pos'] = 0\n",
    "    tb['B_Pos'] = 0\n",
    "    tb['dayret'] = 0\n",
    "    tb['A_Mret'] = tb['A:Adj_Close'].rolling(M).apply(lambda x: np.log(x[-1]/x[0]))\n",
    "    tb['B_Mret'] = tb['B:Adj_Close'].rolling(M).apply(lambda x: np.log(x[-1]/x[0]))\n",
    "    tb['Stoplose'] =0 #stoploss indicator\n",
    "    tb['Diff_Mret'] = tb['A_Mret'] - tb['B_Mret'] #diff or Mret\n",
    "    preidx = tb.index[29]\n",
    "    testdata = tb[30:]\n",
    "    entry_gtc, entry_A, entry_B = [0,0,0]\n",
    "    daypnl =[]\n",
    "    for i, eom in zip(testdata.index, testdata.endofmonth):\n",
    "        cur_pos_pnl = (tb.ix[i, 'A:Adj_Close'] - entry_A) * tb.ix[preidx, 'A_Pos'] + \\\n",
    "                (tb.ix[i, 'B:Adj_Close'] - entry_B) * tb.ix[preidx, 'B_Pos']\n",
    "        dollar_size = tb.ix[i, 'Nt'] / 100 #* tb.ix[i, 'A:Adj_Close']\n",
    "        dayret = (tb.ix[i, 'A:Adj_Close'] - tb.ix[preidx, 'A:Adj_Close']) * tb.ix[preidx, 'A_Pos']  + \\\n",
    "                (tb.ix[i, 'B:Adj_Close'] - tb.ix[preidx, 'B:Adj_Close']) * tb.ix[preidx, 'B_Pos']\n",
    "        daypnl.append(dayret)\n",
    "        tb.ix[i,'dayret'] = dayret\n",
    "        if(abs(eom)> 0.1):\n",
    "            tb.ix[i, 'A_Pos'] = 0\n",
    "            tb.ix[i, 'B_Pos'] = 0\n",
    "            entry_gtc = 0\n",
    "        elif( cur_pos_pnl/entry_gtc) <  -s:\n",
    "            tb.ix[i, 'A_Pos']=0; tb.ix[i, 'B_Pos']=0; entry_gtc =0;\n",
    "            tb.loc[i,'Stoplose'] =1\n",
    "        elif(tb.ix[preidx, 'A_Pos']>-1 and(tb.ix[i, 'Diff_Mret'] > g)):\n",
    "            tb.ix[i, 'A_Pos'] = - int(round(dollar_size / tb.ix[i, 'A:Adj_Close'])) \n",
    "            tb.ix[i, 'B_Pos'] = + int(round(dollar_size / tb.ix[i, 'B:Adj_Close'])) \n",
    "            entry_A = tb.ix[i, 'A:Adj_Close'];\n",
    "            entry_B = tb.ix[i, 'B:Adj_Close'];\n",
    "            entry_gtc = abs(tb.ix[i, 'A_Pos'] * entry_B) + abs(tb.ix[i, 'B_Pos'] * entry_B)\n",
    "        elif(tb.ix[preidx, 'A_Pos']<1 and (-tb.ix[i, 'Diff_Mret'] > g)):\n",
    "            tb.ix[i, 'A_Pos'] = + int(round(dollar_size / tb.ix[i, 'A:Adj_Close'] ))\n",
    "            tb.ix[i, 'B_Pos'] = - int(round(dollar_size / tb.ix[i, 'B:Adj_Close'] )) \n",
    "            entry_A = tb.ix[i, 'A:Adj_Close'];\n",
    "            entry_B = tb.ix[i, 'B:Adj_Close'];\n",
    "            entry_gtc = abs(tb.ix[i, 'A_Pos'] * tb.ix[i, 'A:Adj_Close']) + \\\n",
    "                abs(tb.ix[i, 'B_Pos'] * tb.ix[i, 'B:Adj_Close'])  \n",
    "        elif (abs(tb.ix[i, 'Diff_Mret'])) < f:\n",
    "            tb.ix[i, 'A_Pos']=0; tb.ix[i, 'B_Pos']=0; entry_gtc =0;\n",
    "        elif (tb.ix[i, 'Diff_Mret']* tb.ix[preidx, 'Diff_Mret']) < 0:\n",
    "            tb.ix[i, 'A_Pos']=0; tb.ix[i, 'B_Pos']=0; entry_gtc =0;\n",
    "        else:\n",
    "            tb.ix[i, 'A_Pos']=tb.ix[preidx, 'A_Pos']\n",
    "            tb.ix[i, 'B_Pos']=tb.ix[preidx, 'B_Pos']\n",
    "        tb.ix[i, 'entry_gtc'] = entry_gtc\n",
    "        preidx = i\n",
    "    pnl = np.cumsum(daypnl)\n",
    "    pnl_final = sum(daypnl)\n",
    "    return (tb, pnl, pnl_final)\n"
   ]
  },
  {
   "cell_type": "code",
   "execution_count": null,
   "metadata": {
    "collapsed": false
   },
   "outputs": [],
   "source": [
    "M, g, j, s = [10, 0.03, 0.005, 0.01]\n",
    "from time import time\n",
    "t1 = time()\n",
    "(res, pnl, pnl_final) = run_strat_with_table(df2, M, g, j, s)\n",
    "t2 = time()\n",
    "t2-t1    "
   ]
  },
  {
   "cell_type": "code",
   "execution_count": null,
   "metadata": {
    "collapsed": false
   },
   "outputs": [],
   "source": [
    "res.tail()"
   ]
  },
  {
   "cell_type": "code",
   "execution_count": null,
   "metadata": {
    "collapsed": true
   },
   "outputs": [],
   "source": []
  }
 ],
 "metadata": {
  "anaconda-cloud": {},
  "kernelspec": {
   "display_name": "Python [default]",
   "language": "python",
   "name": "python3"
  },
  "language_info": {
   "codemirror_mode": {
    "name": "ipython",
    "version": 3
   },
   "file_extension": ".py",
   "mimetype": "text/x-python",
   "name": "python",
   "nbconvert_exporter": "python",
   "pygments_lexer": "ipython3",
   "version": "3.5.2"
  }
 },
 "nbformat": 4,
 "nbformat_minor": 0
}
