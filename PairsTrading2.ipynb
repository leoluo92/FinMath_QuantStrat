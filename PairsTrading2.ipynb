{
 "cells": [
  {
   "cell_type": "markdown",
   "metadata": {},
   "source": [
    "# Pairs Trading 2"
   ]
  },
  {
   "cell_type": "markdown",
   "metadata": {},
   "source": [
    "Leo Luo\n",
    "\n",
    "Deeper Analysis of Pairs Trading"
   ]
  },
  {
   "cell_type": "code",
   "execution_count": 1,
   "metadata": {
    "collapsed": true
   },
   "outputs": [],
   "source": [
    "%matplotlib inline"
   ]
  },
  {
   "cell_type": "code",
   "execution_count": 2,
   "metadata": {
    "collapsed": true
   },
   "outputs": [],
   "source": [
    "import matplotlib.pyplot as plt\n",
    "import pandas as pd\n",
    "import numpy as np\n",
    "import scipy as sp\n",
    "import Quandl\n",
    "import functools\n",
    "import seaborn as sns\n",
    "import ggplot as gg"
   ]
  },
  {
   "cell_type": "markdown",
   "metadata": {},
   "source": [
    "## Declaration of Functions"
   ]
  },
  {
   "cell_type": "code",
   "execution_count": 3,
   "metadata": {
    "collapsed": true
   },
   "outputs": [],
   "source": [
    "#save data to cache\n",
    "@functools.lru_cache(maxsize=16)\n",
    "def fetch_quandl(my_securities):\n",
    "    qdata = Quandl.get(list(my_securities), trim_start='2013-12-02', trim_end='2015-12-31', returns=\"pandas\", authtoken=\"TzTcmaHpPQtRD3s_g2Z3\")\n",
    "    return qdata\n",
    "\n",
    "#clean and make data look nicer\n",
    "def clean_quandl_columns(dataframe):\n",
    "    replacement_columns = {}\n",
    "    for c in dataframe.columns:\n",
    "        series_name, variable = c.split(' - ')\n",
    "        source_name, asset = series_name.split('.')\n",
    "        replacement_columns[c] = asset+\":\"+variable\n",
    "    renamed_data = dataframe.rename(columns=replacement_columns)\n",
    "    return renamed_data\n",
    "\n",
    "\n",
    "#renamed_data = clean_quandl_columns(raw_data)\n",
    "#renamed_data.tail()"
   ]
  },
  {
   "cell_type": "code",
   "execution_count": 4,
   "metadata": {
    "collapsed": true
   },
   "outputs": [],
   "source": [
    "#preStratClean\n",
    "def preStratClean(raw_data, num):\n",
    "    renamed_data = clean_quandl_columns(raw_data)\n",
    "    cleaned = renamed_data[[SymList.ix[num,'x']+\":Adj_Volume\",SymList.ix[num,'x']+\":Adj_Close\",SymList.ix[num,'y']+\":Adj_Close\"]].copy()\n",
    "    cleaned.columns = [\"A:Adj_Volume\", \"A:Adj_Close\", \"B:Adj_Close\"]\n",
    "    cleaned.ix[:,'Nt'] = np.nan\n",
    "    #Get the 15-day median of rolling volume as required\n",
    "    DollarVolume = cleaned['A:Adj_Close']  * cleaned['A:Adj_Volume']\n",
    "    N = 15\n",
    "    Ntdata = DollarVolume.rolling(center=False,window =N).median()\n",
    "    cleaned.ix[N-1:,'Nt'] = Ntdata\n",
    "    cleaned['month'] = cleaned.index.month\n",
    "    #Derive a column that indicate end of month\n",
    "    cleaned['endofmonth'] = cleaned.month-cleaned.month.shift(-1)\n",
    "    cleaned.ix[-1,'endofmonth']=0\n",
    "    cleaned.ix[abs(cleaned['endofmonth'])>0, 'endofmonth'] =1\n",
    "    return cleaned"
   ]
  },
  {
   "cell_type": "code",
   "execution_count": 5,
   "metadata": {
    "collapsed": false
   },
   "outputs": [],
   "source": [
    "#STRATEGY THAT RETURN DAILY p&l AND TOTAL_PNL\n",
    "def run_strat(df2, M, g, j, s):\n",
    "    #or we could use simple\n",
    "    #df2['A_Mret'] = df2['A:Adj_Close'].pct_change(periods = M-1)\n",
    "    #df2['B_Mret'] = df2['B:Adj_Close'].pct_change(periods = M-1)\n",
    "    tb = df2.copy()\n",
    "    tb['A_Mret'] = tb['A:Adj_Close'].rolling(M).apply(lambda x: np.log(x[-1]/x[0]))\n",
    "    tb['B_Mret'] = tb['B:Adj_Close'].rolling(M).apply(lambda x: np.log(x[-1]/x[0]))\n",
    "    tb['Diff_Mret'] = tb['A_Mret'] - tb['B_Mret'] #diff or Mret\n",
    "    tb['Stoplose'] =0 #stoploss indicator\n",
    "    tradingday = max(M, 15)\n",
    "    \n",
    "    preidx = tb.index[tradingday-1]\n",
    "    #testdata = tb[tradingday:];\n",
    "    entry_gtc = 0 #entry gross traded capital\n",
    "    A_Pos_i = 0 # Position of stock A in time i\n",
    "    B_Pos_i = 0\n",
    "    daypnl =[]\n",
    "    cur_ret = 0\n",
    "    for idx_t, eom in zip(tb[tradingday:].index, tb[tradingday:].endofmonth):\n",
    "        dollar_size = tb.ix[idx_t, 'Nt'] / 100 #* tb.ix[i, 'A:Adj_Close']\n",
    "        dayret = (tb.ix[idx_t, 'A:Adj_Close'] - tb.ix[preidx, 'A:Adj_Close']) * A_Pos_i  + \\\n",
    "                (tb.ix[idx_t, 'B:Adj_Close'] - tb.ix[preidx, 'B:Adj_Close']) * B_Pos_i\n",
    "        daypnl.append(dayret)\n",
    "        cur_ret += dayret\n",
    "        #if end of month, close position\n",
    "        if(abs(eom)> 0.1):\n",
    "            A_Pos_i = 0\n",
    "            B_Pos_i = 0\n",
    "            entry_gtc = 0\n",
    "            cur_ret = 0\n",
    "        #if satisfy stoploss, then stoploss\n",
    "        elif(np.logical_and(abs(entry_gtc)>1, cur_ret/entry_gtc < -s)):\n",
    "            A_Pos_i = 0\n",
    "            B_Pos_i = 0\n",
    "            entry_gtc = 0\n",
    "            cur_ret = 0\n",
    "        #if satisfy buy or sell, then get position\n",
    "        elif(abs(A_Pos_i)<1 and (abs(tb.ix[idx_t, 'Diff_Mret']) > g).any()):\n",
    "            A_Pos_i = - np.sign(abs(tb.ix[idx_t, 'Diff_Mret']))* int(round(dollar_size / tb.ix[idx_t, 'A:Adj_Close'])) \n",
    "            B_Pos_i = + np.sign(abs(tb.ix[idx_t, 'Diff_Mret']))* int(round(dollar_size / tb.ix[idx_t, 'B:Adj_Close'])) \n",
    "            entry_gtc = abs(A_Pos_i * tb.ix[i, 'A:Adj_Close']) + \\\n",
    "                abs(B_Pos_i * tb.ix[i, 'B:Adj_Close'])\n",
    "        #if satisfy close position, then close\n",
    "        elif ((abs(tb.ix[idx_t, 'Diff_Mret']) < j).any() or (tb.ix[idx_t, 'Diff_Mret']* tb.ix[preidx, 'Diff_Mret']) < 0):\n",
    "            A_Pos_i = 0\n",
    "            B_Pos_i = 0\n",
    "            entry_gtc = 0\n",
    "            cur_ret = 0\n",
    "        preidx = idx_t\n",
    "    pnl = np.cumsum(daypnl)\n",
    "    daypnl = daypnl/ tb['Nt'].max()\n",
    "    pnl = pnl/tb['Nt'].max()\n",
    "    pnl_final = sum(daypnl)\n",
    "    return (daypnl, pnl, pnl_final)"
   ]
  },
  {
   "cell_type": "code",
   "execution_count": 19,
   "metadata": {
    "collapsed": true
   },
   "outputs": [],
   "source": [
    "#SEARCH FOR RELIABLE G, J\n",
    "def findGF(df2, M,g,j,s):\n",
    "    column_names = ['M','g','j','s','pnl'];\n",
    "    result = pd.DataFrame(columns=column_names)\n",
    "    for i in range(0, len(g)):\n",
    "        for k in range(0, len(j)):\n",
    "            if g[i]<j[k]:\n",
    "                pnl_final = 0.00\n",
    "            else:\n",
    "                (_, _, pnl_final) = run_strat(df2, M, g[i], j[k], s)\n",
    "            #result[j][k] = pnl_final\n",
    "            resrow = pd.DataFrame([[M, g[i], j[k], s,pnl_final]],columns=column_names )\n",
    "            result = result.append(resrow ,ignore_index=True)\n",
    "    rs = result.pivot(\"g\",\"j\",\"pnl\")\n",
    "    bestg = max(rs.idxmax())    \n",
    "    bestj = rs.max()[rs.max() == rs.max(axis=1).max()].index[0]\n",
    "    (_, _, pnl_final_best) = run_strat(df2, M, bestg, bestj, s)  \n",
    "    return bestg, bestj,pnl_final_best\n",
    "\n"
   ]
  },
  {
   "cell_type": "code",
   "execution_count": 7,
   "metadata": {
    "collapsed": true
   },
   "outputs": [],
   "source": [
    "Symbols = [['RYU','XLU'],['IST','IYZ'],['RING','GDX'],['XSD','SMH'],['PBE','XBI'],['IEO','XOP'],['PXJ','OIH'],['RTH','XRT'],['SIVR','SLV'],['HYLD','JNK']]\n",
    "SymList = pd.DataFrame(Symbols,  index =range(10), columns = ['x','y'])"
   ]
  },
  {
   "cell_type": "markdown",
   "metadata": {},
   "source": [
    "## Find Reliable g and f"
   ]
  },
  {
   "cell_type": "code",
   "execution_count": 36,
   "metadata": {
    "collapsed": false,
    "scrolled": true
   },
   "outputs": [],
   "source": [
    "# FIND THE RELIABLE g AND F FOR ALL PAIRS\n",
    "# I have chosen 11*11 pairs of g and f and I will choose the best final P&L pair as our result \n",
    "M=20\n",
    "g = np.linspace(0.003,0.0503,num=11)\n",
    "j = np.linspace(0.0001,0.0101, num = 11)\n",
    "s = 1.00\n",
    "GFList = np.zeros((10,3))\n",
    "for i in range(10):\n",
    "    Xstr = \"EOD/\" + SymList.ix[i,'x']\n",
    "    Ystr = \"EOD/\" + SymList.ix[i,'y']\n",
    "    raw_data = fetch_quandl((Xstr, Ystr))\n",
    "    df2 = preStratClean(raw_data,i)\n",
    "    bestg, bestj, pnl_final_best =  findGF(df2, M,g,j,s)\n",
    "    GFList[i,0],GFList[i,1],GFList[i,2]  = bestg, bestj, pnl_final_best\n",
    "GF  =  pd.DataFrame(GFList,  index =range(10), columns = ['bestg','bestf','pnl_final_best'])\n",
    "    "
   ]
  },
  {
   "cell_type": "code",
   "execution_count": 37,
   "metadata": {
    "collapsed": false,
    "scrolled": false
   },
   "outputs": [
    {
     "data": {
      "text/html": [
       "<div>\n",
       "<table border=\"1\" class=\"dataframe\">\n",
       "  <thead>\n",
       "    <tr style=\"text-align: right;\">\n",
       "      <th></th>\n",
       "      <th>0</th>\n",
       "      <th>1</th>\n",
       "      <th>2</th>\n",
       "      <th>3</th>\n",
       "      <th>4</th>\n",
       "      <th>5</th>\n",
       "      <th>6</th>\n",
       "      <th>7</th>\n",
       "      <th>8</th>\n",
       "      <th>9</th>\n",
       "    </tr>\n",
       "  </thead>\n",
       "  <tbody>\n",
       "    <tr>\n",
       "      <th>bestg</th>\n",
       "      <td>0.026650</td>\n",
       "      <td>0.040840</td>\n",
       "      <td>0.026650</td>\n",
       "      <td>0.040840</td>\n",
       "      <td>0.026650</td>\n",
       "      <td>0.040840</td>\n",
       "      <td>0.012460</td>\n",
       "      <td>0.03138</td>\n",
       "      <td>0.003000</td>\n",
       "      <td>0.012460</td>\n",
       "    </tr>\n",
       "    <tr>\n",
       "      <th>bestf</th>\n",
       "      <td>0.000100</td>\n",
       "      <td>0.000100</td>\n",
       "      <td>0.000100</td>\n",
       "      <td>0.005100</td>\n",
       "      <td>0.003100</td>\n",
       "      <td>0.004100</td>\n",
       "      <td>0.003100</td>\n",
       "      <td>0.00110</td>\n",
       "      <td>0.000100</td>\n",
       "      <td>0.001100</td>\n",
       "    </tr>\n",
       "    <tr>\n",
       "      <th>pnl_final_best</th>\n",
       "      <td>0.000077</td>\n",
       "      <td>0.000178</td>\n",
       "      <td>0.000018</td>\n",
       "      <td>0.000343</td>\n",
       "      <td>0.000519</td>\n",
       "      <td>0.000176</td>\n",
       "      <td>0.000228</td>\n",
       "      <td>0.00005</td>\n",
       "      <td>0.000033</td>\n",
       "      <td>0.000997</td>\n",
       "    </tr>\n",
       "  </tbody>\n",
       "</table>\n",
       "</div>"
      ],
      "text/plain": [
       "                       0         1         2         3         4         5  \\\n",
       "bestg           0.026650  0.040840  0.026650  0.040840  0.026650  0.040840   \n",
       "bestf           0.000100  0.000100  0.000100  0.005100  0.003100  0.004100   \n",
       "pnl_final_best  0.000077  0.000178  0.000018  0.000343  0.000519  0.000176   \n",
       "\n",
       "                       6        7         8         9  \n",
       "bestg           0.012460  0.03138  0.003000  0.012460  \n",
       "bestf           0.003100  0.00110  0.000100  0.001100  \n",
       "pnl_final_best  0.000228  0.00005  0.000033  0.000997  "
      ]
     },
     "execution_count": 37,
     "metadata": {},
     "output_type": "execute_result"
    }
   ],
   "source": [
    "# show the best g and j under my selections\n",
    "GF.T\n",
    "#pnl down here is the percentage pnl"
   ]
  },
  {
   "cell_type": "markdown",
   "metadata": {
    "collapsed": false
   },
   "source": [
    "Now we get the reasonable g, f, and we could continue to next step.\n"
   ]
  },
  {
   "cell_type": "markdown",
   "metadata": {},
   "source": [
    "## Get all PNL"
   ]
  },
  {
   "cell_type": "code",
   "execution_count": 50,
   "metadata": {
    "collapsed": false
   },
   "outputs": [],
   "source": [
    "#get all pnl\n",
    "M = 20\n",
    "#pnlList = pnl\n",
    "raw_data = fetch_quandl(\"EOD/\" + SymList.ix[i,'x'])\n",
    "dateind = df2.index[M:]\n",
    "pnlList = pd.DataFrame(index = dateind)\n",
    "\n",
    "for i in range(10):\n",
    "    Xstr = \"EOD/\" + SymList.ix[i,'x']\n",
    "    Ystr = \"EOD/\" + SymList.ix[i,'y']\n",
    "    g = GF.ix[i,'bestg']\n",
    "    j = GF.ix[i,'bestf']\n",
    "    raw_data = fetch_quandl((Xstr, Ystr))\n",
    "    df2 = preStratClean(raw_data,i)\n",
    "    daypnl, _ , _ = run_strat(df2, M,g , j, s)\n",
    "    pnlList['Pair'+ str(i)] = daypnl"
   ]
  },
  {
   "cell_type": "code",
   "execution_count": 126,
   "metadata": {
    "collapsed": false,
    "scrolled": true
   },
   "outputs": [],
   "source": [
    "#fama_french data\n",
    "M = 20\n",
    "famaStat = Quandl.get(\"KFRENCH/FACTORS_D\", trim_start='2013-12-02', trim_end='2015-12-31', returns=\"pandas\", authtoken=\"TzTcmaHpPQtRD3s_g2Z3\")\n",
    "famaStat = famaStat[M:] #SINCE p&l START FROM 20\n",
    "rfRate = famaStat['RF']"
   ]
  },
  {
   "cell_type": "code",
   "execution_count": 127,
   "metadata": {
    "collapsed": false,
    "scrolled": true
   },
   "outputs": [
    {
     "data": {
      "text/html": [
       "<div>\n",
       "<table border=\"1\" class=\"dataframe\">\n",
       "  <thead>\n",
       "    <tr style=\"text-align: right;\">\n",
       "      <th></th>\n",
       "      <th>Mkt-RF</th>\n",
       "      <th>SMB</th>\n",
       "      <th>HML</th>\n",
       "      <th>RF</th>\n",
       "    </tr>\n",
       "    <tr>\n",
       "      <th>Date</th>\n",
       "      <th></th>\n",
       "      <th></th>\n",
       "      <th></th>\n",
       "      <th></th>\n",
       "    </tr>\n",
       "  </thead>\n",
       "  <tbody>\n",
       "    <tr>\n",
       "      <th>2013-12-31</th>\n",
       "      <td>0.44</td>\n",
       "      <td>-0.19</td>\n",
       "      <td>0.09</td>\n",
       "      <td>0.0</td>\n",
       "    </tr>\n",
       "    <tr>\n",
       "      <th>2014-01-02</th>\n",
       "      <td>-0.88</td>\n",
       "      <td>-0.24</td>\n",
       "      <td>0.11</td>\n",
       "      <td>0.0</td>\n",
       "    </tr>\n",
       "    <tr>\n",
       "      <th>2014-01-03</th>\n",
       "      <td>0.03</td>\n",
       "      <td>0.37</td>\n",
       "      <td>0.03</td>\n",
       "      <td>0.0</td>\n",
       "    </tr>\n",
       "    <tr>\n",
       "      <th>2014-01-06</th>\n",
       "      <td>-0.34</td>\n",
       "      <td>-0.56</td>\n",
       "      <td>0.26</td>\n",
       "      <td>0.0</td>\n",
       "    </tr>\n",
       "    <tr>\n",
       "      <th>2014-01-07</th>\n",
       "      <td>0.68</td>\n",
       "      <td>0.37</td>\n",
       "      <td>-0.39</td>\n",
       "      <td>0.0</td>\n",
       "    </tr>\n",
       "  </tbody>\n",
       "</table>\n",
       "</div>"
      ],
      "text/plain": [
       "            Mkt-RF   SMB   HML   RF\n",
       "Date                               \n",
       "2013-12-31    0.44 -0.19  0.09  0.0\n",
       "2014-01-02   -0.88 -0.24  0.11  0.0\n",
       "2014-01-03    0.03  0.37  0.03  0.0\n",
       "2014-01-06   -0.34 -0.56  0.26  0.0\n",
       "2014-01-07    0.68  0.37 -0.39  0.0"
      ]
     },
     "execution_count": 127,
     "metadata": {},
     "output_type": "execute_result"
    }
   ],
   "source": [
    "famaStat.head()"
   ]
  },
  {
   "cell_type": "markdown",
   "metadata": {},
   "source": [
    "## Calculate SS from only the pnl"
   ]
  },
  {
   "cell_type": "code",
   "execution_count": 128,
   "metadata": {
    "collapsed": false
   },
   "outputs": [],
   "source": [
    "def calSS(dailypnl, rfRate):\n",
    "    SharpeR = 10000 * (dailypnl - rfRate).mean() / (10000*dailypnl - 10000*rfRate).std()  #since std is so small, so I time 10000 here\n",
    "    negdailypnl = dailypnl[dailypnl<0].copy()\n",
    "    SortinoR = (dailypnl - rfRate).mean() / negdailypnl.std()\n",
    "    return SharpeR, SortinoR"
   ]
  },
  {
   "cell_type": "code",
   "execution_count": 129,
   "metadata": {
    "collapsed": false,
    "scrolled": true
   },
   "outputs": [
    {
     "data": {
      "text/html": [
       "<div>\n",
       "<table border=\"1\" class=\"dataframe\">\n",
       "  <thead>\n",
       "    <tr style=\"text-align: right;\">\n",
       "      <th></th>\n",
       "      <th>0</th>\n",
       "      <th>1</th>\n",
       "      <th>2</th>\n",
       "      <th>3</th>\n",
       "      <th>4</th>\n",
       "      <th>5</th>\n",
       "      <th>6</th>\n",
       "      <th>7</th>\n",
       "      <th>8</th>\n",
       "      <th>9</th>\n",
       "    </tr>\n",
       "  </thead>\n",
       "  <tbody>\n",
       "    <tr>\n",
       "      <th>Sharpe</th>\n",
       "      <td>0.0344526</td>\n",
       "      <td>0.0167887</td>\n",
       "      <td>0.00617469</td>\n",
       "      <td>0.041262</td>\n",
       "      <td>0.0425584</td>\n",
       "      <td>0.0189797</td>\n",
       "      <td>0.0498674</td>\n",
       "      <td>0.0073196</td>\n",
       "      <td>0.0230329</td>\n",
       "      <td>0.114311</td>\n",
       "    </tr>\n",
       "    <tr>\n",
       "      <th>Sortino</th>\n",
       "      <td>0.0123108</td>\n",
       "      <td>0.0169834</td>\n",
       "      <td>0.00138014</td>\n",
       "      <td>0.0314871</td>\n",
       "      <td>0.0535852</td>\n",
       "      <td>0.0168234</td>\n",
       "      <td>0.0507189</td>\n",
       "      <td>0.00522235</td>\n",
       "      <td>0.00880291</td>\n",
       "      <td>0.0999997</td>\n",
       "    </tr>\n",
       "  </tbody>\n",
       "</table>\n",
       "</div>"
      ],
      "text/plain": [
       "                 0          1           2          3          4          5  \\\n",
       "Sharpe   0.0344526  0.0167887  0.00617469   0.041262  0.0425584  0.0189797   \n",
       "Sortino  0.0123108  0.0169834  0.00138014  0.0314871  0.0535852  0.0168234   \n",
       "\n",
       "                 6           7           8          9  \n",
       "Sharpe   0.0498674   0.0073196   0.0230329   0.114311  \n",
       "Sortino  0.0507189  0.00522235  0.00880291  0.0999997  "
      ]
     },
     "execution_count": 129,
     "metadata": {},
     "output_type": "execute_result"
    }
   ],
   "source": [
    "PNLSSMatrix = pd.DataFrame(index =['Sharpe','Sortino'], columns = range(10))\n",
    "for i in range(10):\n",
    "    PNLSSMatrix.ix['Sharpe',i], PNLSSMatrix.ix['Sortino',i] = calSS(pnlList['Pair' + str(i)], rfRate)\n",
    "PNLSSMatrix    "
   ]
  },
  {
   "cell_type": "markdown",
   "metadata": {},
   "source": [
    "Above is the Sharpe Ratio and Sortino Ratio of different pairs using my strategy"
   ]
  },
  {
   "cell_type": "markdown",
   "metadata": {},
   "source": [
    "## Running Regression on Single Factors."
   ]
  },
  {
   "cell_type": "code",
   "execution_count": 130,
   "metadata": {
    "collapsed": false
   },
   "outputs": [],
   "source": [
    "import statsmodels.formula.api as smf\n",
    "RegData = pd.merge(pnlList, famaStat, left_index =True, right_index = True)\n",
    "idxname =[]\n",
    "for famaF in famaStat:\n",
    "    idxname.append(famaF + 'Sharpe')\n",
    "    idxname.append(famaF + 'Sortino')\n",
    "SSList_singleF = pd.DataFrame(index =idxname, columns = range(10))\n",
    "\n",
    "for famaF in famaStat:\n",
    "    for i in range(10):\n",
    "        spread_strat = pnlList['Pair'+str(i)]\n",
    "        benchmark = famaStat[famaF]\n",
    "        mod = smf.ols(formula='spread_strat~benchmark+0', data = RegData)\n",
    "        res = mod.fit()\n",
    "        SSList_singleF.ix[famaF + 'Sharpe' ,i], SSList_singleF.ix[famaF + 'Sortino',i] = calSS(res.resid,rfRate)\n",
    "        \n"
   ]
  },
  {
   "cell_type": "code",
   "execution_count": 131,
   "metadata": {
    "collapsed": false,
    "scrolled": true
   },
   "outputs": [
    {
     "data": {
      "text/html": [
       "<div>\n",
       "<table border=\"1\" class=\"dataframe\">\n",
       "  <thead>\n",
       "    <tr style=\"text-align: right;\">\n",
       "      <th></th>\n",
       "      <th>0</th>\n",
       "      <th>1</th>\n",
       "      <th>2</th>\n",
       "      <th>3</th>\n",
       "      <th>4</th>\n",
       "      <th>5</th>\n",
       "      <th>6</th>\n",
       "      <th>7</th>\n",
       "      <th>8</th>\n",
       "      <th>9</th>\n",
       "    </tr>\n",
       "  </thead>\n",
       "  <tbody>\n",
       "    <tr>\n",
       "      <th>Mkt-RFSharpe</th>\n",
       "      <td>0.0343197</td>\n",
       "      <td>0.01355</td>\n",
       "      <td>0.00597458</td>\n",
       "      <td>0.0455797</td>\n",
       "      <td>0.0385826</td>\n",
       "      <td>0.0171131</td>\n",
       "      <td>0.0516323</td>\n",
       "      <td>0.0025808</td>\n",
       "      <td>0.0223941</td>\n",
       "      <td>0.116221</td>\n",
       "    </tr>\n",
       "    <tr>\n",
       "      <th>Mkt-RFSortino</th>\n",
       "      <td>0.0615511</td>\n",
       "      <td>0.0181902</td>\n",
       "      <td>0.00552077</td>\n",
       "      <td>0.0545832</td>\n",
       "      <td>0.0557459</td>\n",
       "      <td>0.0218281</td>\n",
       "      <td>0.0592747</td>\n",
       "      <td>0.0031234</td>\n",
       "      <td>0.0272679</td>\n",
       "      <td>0.158413</td>\n",
       "    </tr>\n",
       "    <tr>\n",
       "      <th>SMBSharpe</th>\n",
       "      <td>0.0346398</td>\n",
       "      <td>0.0229254</td>\n",
       "      <td>0.00927619</td>\n",
       "      <td>0.0341836</td>\n",
       "      <td>0.0603929</td>\n",
       "      <td>0.027354</td>\n",
       "      <td>0.0435128</td>\n",
       "      <td>0.0172223</td>\n",
       "      <td>0.0209712</td>\n",
       "      <td>0.110593</td>\n",
       "    </tr>\n",
       "    <tr>\n",
       "      <th>SMBSortino</th>\n",
       "      <td>0.0584977</td>\n",
       "      <td>0.0300976</td>\n",
       "      <td>0.00821308</td>\n",
       "      <td>0.0448034</td>\n",
       "      <td>0.0933354</td>\n",
       "      <td>0.0347642</td>\n",
       "      <td>0.0521051</td>\n",
       "      <td>0.0198647</td>\n",
       "      <td>0.0249997</td>\n",
       "      <td>0.162791</td>\n",
       "    </tr>\n",
       "    <tr>\n",
       "      <th>HMLSharpe</th>\n",
       "      <td>0.0346298</td>\n",
       "      <td>0.0109852</td>\n",
       "      <td>0.0123778</td>\n",
       "      <td>0.0444545</td>\n",
       "      <td>0.0249826</td>\n",
       "      <td>0.0277989</td>\n",
       "      <td>0.047614</td>\n",
       "      <td>0.00804751</td>\n",
       "      <td>0.0266231</td>\n",
       "      <td>0.108367</td>\n",
       "    </tr>\n",
       "    <tr>\n",
       "      <th>HMLSortino</th>\n",
       "      <td>0.0560547</td>\n",
       "      <td>0.014637</td>\n",
       "      <td>0.0106066</td>\n",
       "      <td>0.051191</td>\n",
       "      <td>0.0374385</td>\n",
       "      <td>0.0342889</td>\n",
       "      <td>0.0560296</td>\n",
       "      <td>0.0086632</td>\n",
       "      <td>0.0291586</td>\n",
       "      <td>0.161875</td>\n",
       "    </tr>\n",
       "    <tr>\n",
       "      <th>RFSharpe</th>\n",
       "      <td>0.0344526</td>\n",
       "      <td>0.0167887</td>\n",
       "      <td>0.00617469</td>\n",
       "      <td>0.041262</td>\n",
       "      <td>0.0425584</td>\n",
       "      <td>0.0189797</td>\n",
       "      <td>0.0498674</td>\n",
       "      <td>0.0073196</td>\n",
       "      <td>0.0230329</td>\n",
       "      <td>0.114311</td>\n",
       "    </tr>\n",
       "    <tr>\n",
       "      <th>RFSortino</th>\n",
       "      <td>0.0123108</td>\n",
       "      <td>0.0169834</td>\n",
       "      <td>0.00138014</td>\n",
       "      <td>0.0314871</td>\n",
       "      <td>0.0535852</td>\n",
       "      <td>0.0168234</td>\n",
       "      <td>0.0507189</td>\n",
       "      <td>0.00522235</td>\n",
       "      <td>0.00880291</td>\n",
       "      <td>0.0999997</td>\n",
       "    </tr>\n",
       "  </tbody>\n",
       "</table>\n",
       "</div>"
      ],
      "text/plain": [
       "                       0          1           2          3          4  \\\n",
       "Mkt-RFSharpe   0.0343197    0.01355  0.00597458  0.0455797  0.0385826   \n",
       "Mkt-RFSortino  0.0615511  0.0181902  0.00552077  0.0545832  0.0557459   \n",
       "SMBSharpe      0.0346398  0.0229254  0.00927619  0.0341836  0.0603929   \n",
       "SMBSortino     0.0584977  0.0300976  0.00821308  0.0448034  0.0933354   \n",
       "HMLSharpe      0.0346298  0.0109852   0.0123778  0.0444545  0.0249826   \n",
       "HMLSortino     0.0560547   0.014637   0.0106066   0.051191  0.0374385   \n",
       "RFSharpe       0.0344526  0.0167887  0.00617469   0.041262  0.0425584   \n",
       "RFSortino      0.0123108  0.0169834  0.00138014  0.0314871  0.0535852   \n",
       "\n",
       "                       5          6           7           8          9  \n",
       "Mkt-RFSharpe   0.0171131  0.0516323   0.0025808   0.0223941   0.116221  \n",
       "Mkt-RFSortino  0.0218281  0.0592747   0.0031234   0.0272679   0.158413  \n",
       "SMBSharpe       0.027354  0.0435128   0.0172223   0.0209712   0.110593  \n",
       "SMBSortino     0.0347642  0.0521051   0.0198647   0.0249997   0.162791  \n",
       "HMLSharpe      0.0277989   0.047614  0.00804751   0.0266231   0.108367  \n",
       "HMLSortino     0.0342889  0.0560296   0.0086632   0.0291586   0.161875  \n",
       "RFSharpe       0.0189797  0.0498674   0.0073196   0.0230329   0.114311  \n",
       "RFSortino      0.0168234  0.0507189  0.00522235  0.00880291  0.0999997  "
      ]
     },
     "execution_count": 131,
     "metadata": {},
     "output_type": "execute_result"
    }
   ],
   "source": [
    "SSList_singleF"
   ]
  },
  {
   "cell_type": "code",
   "execution_count": 132,
   "metadata": {
    "collapsed": false,
    "scrolled": true
   },
   "outputs": [
    {
     "data": {
      "text/html": [
       "<div>\n",
       "<table border=\"1\" class=\"dataframe\">\n",
       "  <thead>\n",
       "    <tr style=\"text-align: right;\">\n",
       "      <th></th>\n",
       "      <th>0</th>\n",
       "      <th>1</th>\n",
       "      <th>2</th>\n",
       "      <th>3</th>\n",
       "      <th>4</th>\n",
       "      <th>5</th>\n",
       "      <th>6</th>\n",
       "      <th>7</th>\n",
       "      <th>8</th>\n",
       "      <th>9</th>\n",
       "    </tr>\n",
       "  </thead>\n",
       "  <tbody>\n",
       "    <tr>\n",
       "      <th>Mkt-RFSharpe</th>\n",
       "      <td>False</td>\n",
       "      <td>False</td>\n",
       "      <td>False</td>\n",
       "      <td>True</td>\n",
       "      <td>False</td>\n",
       "      <td>False</td>\n",
       "      <td>True</td>\n",
       "      <td>False</td>\n",
       "      <td>False</td>\n",
       "      <td>True</td>\n",
       "    </tr>\n",
       "    <tr>\n",
       "      <th>Mkt-RFSortino</th>\n",
       "      <td>True</td>\n",
       "      <td>True</td>\n",
       "      <td>True</td>\n",
       "      <td>True</td>\n",
       "      <td>True</td>\n",
       "      <td>True</td>\n",
       "      <td>True</td>\n",
       "      <td>False</td>\n",
       "      <td>True</td>\n",
       "      <td>True</td>\n",
       "    </tr>\n",
       "    <tr>\n",
       "      <th>SMBSharpe</th>\n",
       "      <td>True</td>\n",
       "      <td>True</td>\n",
       "      <td>True</td>\n",
       "      <td>False</td>\n",
       "      <td>True</td>\n",
       "      <td>True</td>\n",
       "      <td>False</td>\n",
       "      <td>True</td>\n",
       "      <td>False</td>\n",
       "      <td>False</td>\n",
       "    </tr>\n",
       "    <tr>\n",
       "      <th>SMBSortino</th>\n",
       "      <td>True</td>\n",
       "      <td>True</td>\n",
       "      <td>True</td>\n",
       "      <td>True</td>\n",
       "      <td>True</td>\n",
       "      <td>True</td>\n",
       "      <td>True</td>\n",
       "      <td>True</td>\n",
       "      <td>True</td>\n",
       "      <td>True</td>\n",
       "    </tr>\n",
       "    <tr>\n",
       "      <th>HMLSharpe</th>\n",
       "      <td>True</td>\n",
       "      <td>False</td>\n",
       "      <td>True</td>\n",
       "      <td>True</td>\n",
       "      <td>False</td>\n",
       "      <td>True</td>\n",
       "      <td>False</td>\n",
       "      <td>True</td>\n",
       "      <td>True</td>\n",
       "      <td>False</td>\n",
       "    </tr>\n",
       "    <tr>\n",
       "      <th>HMLSortino</th>\n",
       "      <td>True</td>\n",
       "      <td>False</td>\n",
       "      <td>True</td>\n",
       "      <td>True</td>\n",
       "      <td>False</td>\n",
       "      <td>True</td>\n",
       "      <td>True</td>\n",
       "      <td>True</td>\n",
       "      <td>True</td>\n",
       "      <td>True</td>\n",
       "    </tr>\n",
       "    <tr>\n",
       "      <th>RFSharpe</th>\n",
       "      <td>False</td>\n",
       "      <td>False</td>\n",
       "      <td>False</td>\n",
       "      <td>False</td>\n",
       "      <td>False</td>\n",
       "      <td>False</td>\n",
       "      <td>False</td>\n",
       "      <td>False</td>\n",
       "      <td>False</td>\n",
       "      <td>False</td>\n",
       "    </tr>\n",
       "    <tr>\n",
       "      <th>RFSortino</th>\n",
       "      <td>False</td>\n",
       "      <td>False</td>\n",
       "      <td>False</td>\n",
       "      <td>False</td>\n",
       "      <td>False</td>\n",
       "      <td>False</td>\n",
       "      <td>False</td>\n",
       "      <td>False</td>\n",
       "      <td>False</td>\n",
       "      <td>False</td>\n",
       "    </tr>\n",
       "  </tbody>\n",
       "</table>\n",
       "</div>"
      ],
      "text/plain": [
       "                   0      1      2      3      4      5      6      7      8  \\\n",
       "Mkt-RFSharpe   False  False  False   True  False  False   True  False  False   \n",
       "Mkt-RFSortino   True   True   True   True   True   True   True  False   True   \n",
       "SMBSharpe       True   True   True  False   True   True  False   True  False   \n",
       "SMBSortino      True   True   True   True   True   True   True   True   True   \n",
       "HMLSharpe       True  False   True   True  False   True  False   True   True   \n",
       "HMLSortino      True  False   True   True  False   True   True   True   True   \n",
       "RFSharpe       False  False  False  False  False  False  False  False  False   \n",
       "RFSortino      False  False  False  False  False  False  False  False  False   \n",
       "\n",
       "                   9  \n",
       "Mkt-RFSharpe    True  \n",
       "Mkt-RFSortino   True  \n",
       "SMBSharpe      False  \n",
       "SMBSortino      True  \n",
       "HMLSharpe      False  \n",
       "HMLSortino      True  \n",
       "RFSharpe       False  \n",
       "RFSortino      False  "
      ]
     },
     "execution_count": 132,
     "metadata": {},
     "output_type": "execute_result"
    }
   ],
   "source": [
    "# now we try to see if the hedged ones have better sharpe or Sortino, therefore we are going to compare it. \n",
    "#original one: PNLSSMatrix    \n",
    "ComparisonMatrix = SSList_singleF\n",
    "#ComparisonMatrix.ix[famaF + 'Sharpe'] \n",
    "for famaF in famaStat:\n",
    "    ComparisonMatrix.ix[famaF + 'Sharpe'] = ComparisonMatrix.ix[famaF + 'Sharpe'] > PNLSSMatrix.ix['Sharpe']\n",
    "    ComparisonMatrix.ix[famaF + 'Sortino'] = ComparisonMatrix.ix[famaF + 'Sortino'] > PNLSSMatrix.ix['Sortino']\n",
    "ComparisonMatrix"
   ]
  },
  {
   "cell_type": "markdown",
   "metadata": {},
   "source": [
    "The Above chart shows if using Fama Factor adjusted return are good or bad.\n",
    "If it shows \"True\", it means the adjusted one is better than the original one. "
   ]
  },
  {
   "cell_type": "code",
   "execution_count": 133,
   "metadata": {
    "collapsed": false
   },
   "outputs": [
    {
     "data": {
      "text/plain": [
       "Mkt-RFSharpe      3\n",
       "Mkt-RFSortino     9\n",
       "SMBSharpe         6\n",
       "SMBSortino       10\n",
       "HMLSharpe         6\n",
       "HMLSortino        8\n",
       "RFSharpe          0\n",
       "RFSortino         0\n",
       "dtype: int64"
      ]
     },
     "execution_count": 133,
     "metadata": {},
     "output_type": "execute_result"
    }
   ],
   "source": [
    "#counting number of true in the above chart, 10 means all are \"true\"\n",
    "ComparisonMatrix.sum(1)"
   ]
  },
  {
   "cell_type": "markdown",
   "metadata": {},
   "source": [
    "We can see that except the RF adjusted, all other adjusted will likely to create a better Sortino Ratio. For Sharpe Ratio, the change is unpredictable."
   ]
  },
  {
   "cell_type": "markdown",
   "metadata": {},
   "source": [
    "## Regression on all factors"
   ]
  },
  {
   "cell_type": "code",
   "execution_count": 134,
   "metadata": {
    "collapsed": false
   },
   "outputs": [
    {
     "data": {
      "text/html": [
       "<div>\n",
       "<table border=\"1\" class=\"dataframe\">\n",
       "  <thead>\n",
       "    <tr style=\"text-align: right;\">\n",
       "      <th></th>\n",
       "      <th>0</th>\n",
       "      <th>1</th>\n",
       "      <th>2</th>\n",
       "      <th>3</th>\n",
       "      <th>4</th>\n",
       "      <th>5</th>\n",
       "      <th>6</th>\n",
       "      <th>7</th>\n",
       "      <th>8</th>\n",
       "      <th>9</th>\n",
       "    </tr>\n",
       "  </thead>\n",
       "  <tbody>\n",
       "    <tr>\n",
       "      <th>4factor_Sharpe</th>\n",
       "      <td>0.0348887</td>\n",
       "      <td>0.016678</td>\n",
       "      <td>0.0193247</td>\n",
       "      <td>0.0365297</td>\n",
       "      <td>0.0421062</td>\n",
       "      <td>0.0436134</td>\n",
       "      <td>0.0373842</td>\n",
       "      <td>0.0211168</td>\n",
       "      <td>0.0236948</td>\n",
       "      <td>0.101915</td>\n",
       "    </tr>\n",
       "    <tr>\n",
       "      <th>4factor_Sortino</th>\n",
       "      <td>0.0577675</td>\n",
       "      <td>0.0227274</td>\n",
       "      <td>0.0164688</td>\n",
       "      <td>0.0483259</td>\n",
       "      <td>0.0648547</td>\n",
       "      <td>0.0539978</td>\n",
       "      <td>0.0464668</td>\n",
       "      <td>0.0244348</td>\n",
       "      <td>0.027495</td>\n",
       "      <td>0.159894</td>\n",
       "    </tr>\n",
       "  </tbody>\n",
       "</table>\n",
       "</div>"
      ],
      "text/plain": [
       "                         0          1          2          3          4  \\\n",
       "4factor_Sharpe   0.0348887   0.016678  0.0193247  0.0365297  0.0421062   \n",
       "4factor_Sortino  0.0577675  0.0227274  0.0164688  0.0483259  0.0648547   \n",
       "\n",
       "                         5          6          7          8         9  \n",
       "4factor_Sharpe   0.0436134  0.0373842  0.0211168  0.0236948  0.101915  \n",
       "4factor_Sortino  0.0539978  0.0464668  0.0244348   0.027495  0.159894  "
      ]
     },
     "execution_count": 134,
     "metadata": {},
     "output_type": "execute_result"
    }
   ],
   "source": [
    "import statsmodels.formula.api as smf\n",
    "SSList_4F = pd.DataFrame(index =['4factor_Sharpe', '4factor_Sortino'], columns = range(10))\n",
    "#SINCE THE - SIGN IS NOT WORKING IN RUNNING REGRESSION, I CHANGED IT TO _\n",
    "famaStat = famaStat.rename(columns ={'Mkt-RF':'MktRF'})\n",
    "RegData = pd.merge(pnlList, famaStat, left_index =True, right_index = True)\n",
    "\n",
    "for i in range(10):\n",
    "    spread_strat = pnlList['Pair'+str(i)]\n",
    "    mod = smf.ols(formula='spread_strat~ MktRF+SMB+HML+RF+0', data = RegData)\n",
    "    res = mod.fit()\n",
    "    (SSList_4F.ix['4factor_Sharpe' ,i], SSList_4F.ix['4factor_Sortino',i]) = calSS(res.resid,rfRate)\n",
    "SSList_4F"
   ]
  },
  {
   "cell_type": "code",
   "execution_count": 137,
   "metadata": {
    "collapsed": false
   },
   "outputs": [
    {
     "data": {
      "text/html": [
       "<div>\n",
       "<table border=\"1\" class=\"dataframe\">\n",
       "  <thead>\n",
       "    <tr style=\"text-align: right;\">\n",
       "      <th></th>\n",
       "      <th>0</th>\n",
       "      <th>1</th>\n",
       "      <th>2</th>\n",
       "      <th>3</th>\n",
       "      <th>4</th>\n",
       "      <th>5</th>\n",
       "      <th>6</th>\n",
       "      <th>7</th>\n",
       "      <th>8</th>\n",
       "      <th>9</th>\n",
       "    </tr>\n",
       "  </thead>\n",
       "  <tbody>\n",
       "    <tr>\n",
       "      <th>4factor_Sharpe</th>\n",
       "      <td>True</td>\n",
       "      <td>False</td>\n",
       "      <td>True</td>\n",
       "      <td>False</td>\n",
       "      <td>False</td>\n",
       "      <td>True</td>\n",
       "      <td>False</td>\n",
       "      <td>True</td>\n",
       "      <td>True</td>\n",
       "      <td>False</td>\n",
       "    </tr>\n",
       "    <tr>\n",
       "      <th>4factor_Sortino</th>\n",
       "      <td>True</td>\n",
       "      <td>True</td>\n",
       "      <td>True</td>\n",
       "      <td>True</td>\n",
       "      <td>True</td>\n",
       "      <td>True</td>\n",
       "      <td>False</td>\n",
       "      <td>True</td>\n",
       "      <td>True</td>\n",
       "      <td>True</td>\n",
       "    </tr>\n",
       "  </tbody>\n",
       "</table>\n",
       "</div>"
      ],
      "text/plain": [
       "                    0      1     2      3      4     5      6     7     8  \\\n",
       "4factor_Sharpe   True  False  True  False  False  True  False  True  True   \n",
       "4factor_Sortino  True   True  True   True   True  True  False  True  True   \n",
       "\n",
       "                     9  \n",
       "4factor_Sharpe   False  \n",
       "4factor_Sortino   True  "
      ]
     },
     "execution_count": 137,
     "metadata": {},
     "output_type": "execute_result"
    }
   ],
   "source": [
    "ComparisonMatrix2 = SSList_4F.copy()\n",
    "ComparisonMatrix2.ix['4factor_Sharpe']\n",
    "for famaF in famaStat:\n",
    "    ComparisonMatrix2.ix['4factor_Sharpe'] = ComparisonMatrix2.ix['4factor_Sharpe'] > PNLSSMatrix.ix['Sharpe']\n",
    "    ComparisonMatrix2.ix['4factor_Sortino'] = ComparisonMatrix2.ix['4factor_Sortino'] > PNLSSMatrix.ix['Sortino']\n",
    "ComparisonMatrix2"
   ]
  },
  {
   "cell_type": "markdown",
   "metadata": {},
   "source": [
    "Still, Sortino ratio are improved, but sharpe ratio changes unpredictable"
   ]
  },
  {
   "cell_type": "code",
   "execution_count": null,
   "metadata": {
    "collapsed": true
   },
   "outputs": [],
   "source": []
  }
 ],
 "metadata": {
  "anaconda-cloud": {},
  "kernelspec": {
   "display_name": "Python [default]",
   "language": "python",
   "name": "python3"
  },
  "language_info": {
   "codemirror_mode": {
    "name": "ipython",
    "version": 3
   },
   "file_extension": ".py",
   "mimetype": "text/x-python",
   "name": "python",
   "nbconvert_exporter": "python",
   "pygments_lexer": "ipython3",
   "version": "3.5.2"
  }
 },
 "nbformat": 4,
 "nbformat_minor": 0
}
