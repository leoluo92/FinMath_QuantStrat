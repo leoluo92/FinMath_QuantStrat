{
 "cells": [
  {
   "cell_type": "markdown",
   "metadata": {},
   "source": [
    "## Robust Regression And Equity Beta\n",
    "\n",
    "Leo Luo"
   ]
  },
  {
   "cell_type": "markdown",
   "metadata": {},
   "source": [
    "This project is to use different robust regression model on equity price and compare their prediction ability."
   ]
  },
  {
   "cell_type": "code",
   "execution_count": 1,
   "metadata": {
    "collapsed": true
   },
   "outputs": [],
   "source": [
    "%matplotlib inline"
   ]
  },
  {
   "cell_type": "code",
   "execution_count": 2,
   "metadata": {
    "collapsed": true
   },
   "outputs": [],
   "source": [
    "import matplotlib.pyplot as plt\n",
    "import pandas as pd\n",
    "import numpy as np\n",
    "import scipy as sp\n",
    "import Quandl\n",
    "import functools\n",
    "import seaborn as sns\n",
    "import ggplot as gg"
   ]
  },
  {
   "cell_type": "code",
   "execution_count": 8,
   "metadata": {
    "collapsed": false
   },
   "outputs": [],
   "source": [
    "store = pd.HDFStore('store.h5')"
   ]
  },
  {
   "cell_type": "code",
   "execution_count": null,
   "metadata": {
    "collapsed": false
   },
   "outputs": [],
   "source": []
  },
  {
   "cell_type": "markdown",
   "metadata": {},
   "source": [
    "## Declaration of Functions"
   ]
  },
  {
   "cell_type": "code",
   "execution_count": 4,
   "metadata": {
    "collapsed": false
   },
   "outputs": [],
   "source": [
    "@functools.lru_cache(maxsize=16)\n",
    "def fetch_quandl(my_securities):\n",
    "    try:\n",
    "        qdata = Quandl.get('EOD/'+my_securities, trim_start='2016-01-01', trim_end='2016-02-28', returns=\"pandas\", authtoken=\"TzTcmaHpPQtRD3s_g2Z3\")\n",
    "        qdata = pd.DataFrame(qdata.iloc[0:26]['Adj_Close'].pct_change().dropna())\n",
    "        qdata.columns =[my_securities]\n",
    "    except:\n",
    "        qdata = pd.DataFrame()\n",
    "    return qdata"
   ]
  },
  {
   "cell_type": "markdown",
   "metadata": {},
   "source": [
    "## Get SPY Data\n",
    "only run once\n"
   ]
  },
  {
   "cell_type": "code",
   "execution_count": 7,
   "metadata": {
    "collapsed": false
   },
   "outputs": [],
   "source": [
    "SPY = Quandl.get('EOD/SPY', trim_start='2016-01-01', trim_end='2016-02-28', returns=\"pandas\", authtoken=\"TzTcmaHpPQtRD3s_g2Z3\")\n",
    "#SPY['Adj_Close']\n",
    "SPY = pd.DataFrame(SPY['Adj_Close'].pct_change().dropna())\n",
    "store['SPY'] = SPY"
   ]
  },
  {
   "cell_type": "markdown",
   "metadata": {},
   "source": [
    "## Get 600 Stocks Data\n"
   ]
  },
  {
   "cell_type": "markdown",
   "metadata": {},
   "source": [
    "Tickers are from \"ticker_list.csv\" downloaded from quandl https://www.quandl.com/data/EOD/documentation/documentation"
   ]
  },
  {
   "cell_type": "code",
   "execution_count": 9,
   "metadata": {
    "collapsed": false
   },
   "outputs": [],
   "source": [
    "ticker_lists = pd.read_csv('ticker_list.csv')\n",
    "ticker_lists.head()\n",
    "count = 0\n",
    "for equity in ticker_lists['Ticker']:\n",
    "    data = fetch_quandl(equity)\n",
    "    if(len(data)>=25):\n",
    "        store[equity] = data\n",
    "        count +=1\n",
    "    if count>=600:\n",
    "        break"
   ]
  },
  {
   "cell_type": "markdown",
   "metadata": {},
   "source": [
    "## Regression and collect results"
   ]
  },
  {
   "cell_type": "code",
   "execution_count": 10,
   "metadata": {
    "collapsed": true
   },
   "outputs": [],
   "source": [
    "from __future__ import print_function\n",
    "import numpy as np\n",
    "import statsmodels.api as sm\n",
    "import matplotlib.pyplot as plt\n",
    "from statsmodels.sandbox.regression.predstd import wls_prediction_std"
   ]
  },
  {
   "cell_type": "code",
   "execution_count": 180,
   "metadata": {
    "collapsed": false
   },
   "outputs": [],
   "source": [
    "KEYS = store.keys()\n",
    "KEYS.remove('/SPY')\n",
    "ResDict = dict()\n",
    "for name in ['OLS','Huber','Tukey']:\n",
    "    for cons in ['c','nc']:\n",
    "        ResDict[name+'_'+cons]=[]\n",
    "        ResDict[name+'_'+cons+'_Adj']=[]\n",
    "        \n",
    "residualList = []\n",
    "K, N = 25, 20\n",
    "L = K - N\n",
    "for equity in KEYS:\n",
    "    equity = equity[1:]\n",
    "    inde = 'SPY' #independent factor\n",
    "    da  = store[equity]  # da is the real data\n",
    "    ex =store[inde].ix[da.index] # ex is the independent data\n",
    "    NameList = ['OLS','Huber','Tukey']\n",
    "    MList = [sm.robust.norms.LeastSquares(), sm.robust.norms.HuberT(),sm.robust.norms.TukeyBiweight()]\n",
    "    for met,name in zip(MList,NameList):\n",
    "        reg = sm.RLM(endog = da[:N], exog = ex[:N], M=met)\n",
    "        reg_results = reg.fit()\n",
    "        residual = reg_results.predict(ex[-L:]).reshape(L,)-np.array(da[-L:]).reshape(L,)\n",
    "        residual_Adj = residual/np.array(np.std(ex[:N]))\n",
    "        ResDict[name+'_nc'].extend(residual)\n",
    "        ResDict[name+'_nc_Adj'].extend(residual_Adj)\n",
    "\n",
    "        reg = sm.RLM(endog = da[:N], exog = sm.add_constant(ex[:N]), M=met)\n",
    "        reg_results = reg.fit()\n",
    "        residual = reg_results.predict(sm.add_constant(ex[-L:])).reshape(L,)-np.array(da[-L:]).reshape(L,)\n",
    "        residual_Adj = residual/np.array(np.std(ex[:N]))\n",
    "        ResDict[name+'_c'].extend(residual)  \n",
    "        ResDict[name+'_c_Adj'].extend(residual_Adj) \n",
    "Res = pd.DataFrame(ResDict)"
   ]
  },
  {
   "cell_type": "markdown",
   "metadata": {},
   "source": [
    "Store or retrieve all residual data"
   ]
  },
  {
   "cell_type": "code",
   "execution_count": 181,
   "metadata": {
    "collapsed": false
   },
   "outputs": [],
   "source": [
    "#Res.to_pickle('Res.pkl')\n",
    "Res = pd.read_pickle('Res.pkl')"
   ]
  },
  {
   "cell_type": "markdown",
   "metadata": {},
   "source": [
    "## Analysis"
   ]
  },
  {
   "cell_type": "code",
   "execution_count": 197,
   "metadata": {
    "collapsed": true
   },
   "outputs": [],
   "source": [
    "import seaborn as sns\n",
    "from matplotlib import pyplot as plt"
   ]
  },
  {
   "cell_type": "code",
   "execution_count": 189,
   "metadata": {
    "collapsed": false
   },
   "outputs": [],
   "source": [
    "ResNew, TypeNew, ResNew_Adj, TypeNew_Adj  = [],[],[],[]\n",
    "for name in ['OLS','Huber','Tukey']:\n",
    "    for cons in ['c','nc']:\n",
    "        ResNew.extend(Res[name+'_'+cons]) \n",
    "        TypeNew.extend([name+'_'+cons]*3000)\n",
    "        ResNew_Adj.extend(Res[name+'_'+cons+'_Adj']) \n",
    "        TypeNew_Adj.extend([name+'_'+cons+'_Adj']*3000)        \n",
    "        \n",
    "ResN = pd.DataFrame({'Res':ResNew,'Type':TypeNew,'Res_Adj':ResNew_Adj,'Type_Adj':TypeNew_Adj})"
   ]
  },
  {
   "cell_type": "markdown",
   "metadata": {},
   "source": [
    "Below is the distribution of all the un-adjusted residuals. "
   ]
  },
  {
   "cell_type": "code",
   "execution_count": 192,
   "metadata": {
    "collapsed": false,
    "scrolled": true
   },
   "outputs": [
    {
     "data": {
      "text/plain": [
       "<matplotlib.axes._subplots.AxesSubplot at 0x1d9343617b8>"
      ]
     },
     "execution_count": 192,
     "metadata": {},
     "output_type": "execute_result"
    },
    {
     "data": {
      "image/png": "[encoded data removed]",
      "text/plain": [
       "<matplotlib.figure.Figure at 0x1d93436ac50>"
      ]
     },
     "metadata": {},
     "output_type": "display_data"
    }
   ],
   "source": [
    "sns.stripplot(x=\"Type\", y=\"Res\", data=ResN, jitter=True)"
   ]
  },
  {
   "cell_type": "markdown",
   "metadata": {},
   "source": [
    "For un-adjusted residuals, we could see that OLS with constant has the largest abosolute value of Residual at about 3.3. Huber with constant and Tukey with constant has some large residuals on negative sides."
   ]
  },
  {
   "cell_type": "markdown",
   "metadata": {},
   "source": [
    "Below is the distribution of all djusted residuals. "
   ]
  },
  {
   "cell_type": "code",
   "execution_count": 193,
   "metadata": {
    "collapsed": false
   },
   "outputs": [
    {
     "data": {
      "text/plain": [
       "<matplotlib.axes._subplots.AxesSubplot at 0x1d931b0d470>"
      ]
     },
     "execution_count": 193,
     "metadata": {},
     "output_type": "execute_result"
    },
    {
     "data": {
      "image/png": "[encoded data removed]",
      "text/plain": [
       "<matplotlib.figure.Figure at 0x1d92d674ef0>"
      ]
     },
     "metadata": {},
     "output_type": "display_data"
    }
   ],
   "source": [
    "sns.stripplot(x=\"Type_Adj\", y=\"Res_Adj\", data=ResN, jitter=True)"
   ]
  },
  {
   "cell_type": "markdown",
   "metadata": {},
   "source": [
    "For adjusted residuals, we could see they are all larger than the unadjusted ones, since the volatility are all smaller than 0. OLS with constant has the largest abosolute value of Residual at about 23. Huber with constant and Tukey with constant has some large residuals on negative sides."
   ]
  },
  {
   "cell_type": "markdown",
   "metadata": {},
   "source": [
    "## Deeper Analysis"
   ]
  },
  {
   "cell_type": "code",
   "execution_count": 200,
   "metadata": {
    "collapsed": false
   },
   "outputs": [],
   "source": [
    "#root of Mean squared error\n",
    "def rmse(res):\n",
    "    return np.sqrt((res**2).mean())\n",
    "#mean absolute error\n",
    "def mae(res):\n",
    "    return res.abs().mean()"
   ]
  },
  {
   "cell_type": "code",
   "execution_count": 205,
   "metadata": {
    "collapsed": false,
    "scrolled": true
   },
   "outputs": [
    {
     "data": {
      "text/html": [
       "<div>\n",
       "<table border=\"1\" class=\"dataframe\">\n",
       "  <thead>\n",
       "    <tr style=\"text-align: right;\">\n",
       "      <th></th>\n",
       "      <th>Huber_c</th>\n",
       "      <th>Huber_nc</th>\n",
       "      <th>OLS_c</th>\n",
       "      <th>OLS_nc</th>\n",
       "      <th>Tukey_c</th>\n",
       "      <th>Tukey_nc</th>\n",
       "    </tr>\n",
       "  </thead>\n",
       "  <tbody>\n",
       "    <tr>\n",
       "      <th>RMSE</th>\n",
       "      <td>0.037177</td>\n",
       "      <td>0.036825</td>\n",
       "      <td>0.037524</td>\n",
       "      <td>0.037126</td>\n",
       "      <td>0.037234</td>\n",
       "      <td>0.036788</td>\n",
       "    </tr>\n",
       "    <tr>\n",
       "      <th>MAE</th>\n",
       "      <td>0.022759</td>\n",
       "      <td>0.022523</td>\n",
       "      <td>0.023177</td>\n",
       "      <td>0.022729</td>\n",
       "      <td>0.022785</td>\n",
       "      <td>0.022510</td>\n",
       "    </tr>\n",
       "  </tbody>\n",
       "</table>\n",
       "</div>"
      ],
      "text/plain": [
       "       Huber_c  Huber_nc     OLS_c    OLS_nc   Tukey_c  Tukey_nc\n",
       "RMSE  0.037177  0.036825  0.037524  0.037126  0.037234  0.036788\n",
       "MAE   0.022759  0.022523  0.023177  0.022729  0.022785  0.022510"
      ]
     },
     "execution_count": 205,
     "metadata": {},
     "output_type": "execute_result"
    }
   ],
   "source": [
    "RiskM = pd.DataFrame()\n",
    "for col in Res.columns[::2]:\n",
    "    RiskM.ix['RMSE',col] = rmse(Res[col])\n",
    "    RiskM.ix['MAE',col] = mae(Res[col])\n",
    "RiskM"
   ]
  },
  {
   "cell_type": "markdown",
   "metadata": {},
   "source": [
    "Above the risk matrix for un-adjusted data. We could see that \n",
    "1. OLS with constant has highest RMSE. Tukey without constant has smallest RMSE.\n",
    "2. OLS with constant has highest MAE. Tukey without constant has smallest RMSE.\n",
    "3. OLS are worse than Huber and Tukey.\n",
    "4. For both RMSE and MAE, no constant models are all better than constant models for all three model types.\n",
    "5. Tukey without constant is the best model for prediction."
   ]
  },
  {
   "cell_type": "code",
   "execution_count": 207,
   "metadata": {
    "collapsed": false
   },
   "outputs": [
    {
     "data": {
      "text/html": [
       "<div>\n",
       "<table border=\"1\" class=\"dataframe\">\n",
       "  <thead>\n",
       "    <tr style=\"text-align: right;\">\n",
       "      <th></th>\n",
       "      <th>Huber_c_Adj</th>\n",
       "      <th>Huber_nc_Adj</th>\n",
       "      <th>OLS_c_Adj</th>\n",
       "      <th>OLS_nc_Adj</th>\n",
       "      <th>Tukey_c_Adj</th>\n",
       "      <th>Tukey_nc_Adj</th>\n",
       "    </tr>\n",
       "  </thead>\n",
       "  <tbody>\n",
       "    <tr>\n",
       "      <th>RMSE</th>\n",
       "      <td>2.555744</td>\n",
       "      <td>2.531569</td>\n",
       "      <td>2.579609</td>\n",
       "      <td>2.552213</td>\n",
       "      <td>2.559624</td>\n",
       "      <td>2.529020</td>\n",
       "    </tr>\n",
       "    <tr>\n",
       "      <th>MAE</th>\n",
       "      <td>1.564552</td>\n",
       "      <td>1.548329</td>\n",
       "      <td>1.593288</td>\n",
       "      <td>1.562500</td>\n",
       "      <td>1.566332</td>\n",
       "      <td>1.547431</td>\n",
       "    </tr>\n",
       "  </tbody>\n",
       "</table>\n",
       "</div>"
      ],
      "text/plain": [
       "      Huber_c_Adj  Huber_nc_Adj  OLS_c_Adj  OLS_nc_Adj  Tukey_c_Adj  \\\n",
       "RMSE     2.555744      2.531569   2.579609    2.552213     2.559624   \n",
       "MAE      1.564552      1.548329   1.593288    1.562500     1.566332   \n",
       "\n",
       "      Tukey_nc_Adj  \n",
       "RMSE      2.529020  \n",
       "MAE       1.547431  "
      ]
     },
     "execution_count": 207,
     "metadata": {},
     "output_type": "execute_result"
    }
   ],
   "source": [
    "RiskM_Adj = pd.DataFrame()\n",
    "for col in Res.columns[1::2]:\n",
    "    RiskM_Adj.ix['RMSE',col] = rmse(Res[col])\n",
    "    RiskM_Adj.ix['MAE',col] = mae(Res[col])\n",
    "RiskM_Adj"
   ]
  },
  {
   "cell_type": "markdown",
   "metadata": {},
   "source": [
    "Above the risk matrix for un-adjusted data. We could see that \n",
    "1. OLS with constant has highest RMSE. Tukey without constant has smallest RMSE.\n",
    "2. OLS with constant has highest MAE. Tukey without constant has smallest RMSE.\n",
    "3. OLS are worse than Huber and Tukey.\n",
    "4. For both RMSE and MAE, no constant models are all better than constant models for all three model types.\n",
    "5. Tukey without constant is the best model for prediction."
   ]
  },
  {
   "cell_type": "code",
   "execution_count": null,
   "metadata": {
    "collapsed": false,
    "scrolled": true
   },
   "outputs": [],
   "source": []
  },
  {
   "cell_type": "markdown",
   "metadata": {},
   "source": [
    "## Conclusion"
   ]
  },
  {
   "cell_type": "markdown",
   "metadata": {
    "collapsed": true
   },
   "source": [
    "1. OLS works worse than Huber and Tukey.\n",
    "2. OLS with constant is the worst model for prediction. \n",
    "3. Tukey without constant is the best model for prediction."
   ]
  },
  {
   "cell_type": "code",
   "execution_count": null,
   "metadata": {
    "collapsed": true
   },
   "outputs": [],
   "source": []
  }
 ],
 "metadata": {
  "anaconda-cloud": {},
  "kernelspec": {
   "display_name": "Python [default]",
   "language": "python",
   "name": "python3"
  },
  "language_info": {
   "codemirror_mode": {
    "name": "ipython",
    "version": 3
   },
   "file_extension": ".py",
   "mimetype": "text/x-python",
   "name": "python",
   "nbconvert_exporter": "python",
   "pygments_lexer": "ipython3",
   "version": "3.5.2"
  }
 },
 "nbformat": 4,
 "nbformat_minor": 0
}
