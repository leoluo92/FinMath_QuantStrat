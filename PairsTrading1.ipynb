{
 "cells": [
  {
   "cell_type": "markdown",
   "metadata": {},
   "source": [
    "# Pairs Trading\n",
    "\n",
    "Leo Luo   - 2016.3"
   ]
  },
  {
   "cell_type": "markdown",
   "metadata": {},
   "source": [
    "This is for building a pair trading strategy for any Pair of products.\n",
    "\n",
    "The strategy enters or maintains a position if the size of difference between the N-day return on X and Y is greater than g, and flattens (exits) the position if the size of the difference is less than j (where j < g)."
   ]
  },
  {
   "cell_type": "code",
   "execution_count": 1,
   "metadata": {
    "collapsed": true
   },
   "outputs": [],
   "source": [
    "%matplotlib inline"
   ]
  },
  {
   "cell_type": "code",
   "execution_count": 2,
   "metadata": {
    "collapsed": true
   },
   "outputs": [],
   "source": [
    "import matplotlib.pyplot as plt\n",
    "import pandas as pd\n",
    "import numpy as np\n",
    "import scipy as sp\n",
    "import Quandl\n",
    "import functools\n",
    "import seaborn as sns\n",
    "import ggplot as gg"
   ]
  },
  {
   "cell_type": "markdown",
   "metadata": {},
   "source": [
    "# Read and clean data"
   ]
  },
  {
   "cell_type": "code",
   "execution_count": 3,
   "metadata": {
    "collapsed": false
   },
   "outputs": [],
   "source": [
    "#save data to cache\n",
    "@functools.lru_cache(maxsize=16)\n",
    "def fetch_quandl(my_securities):\n",
    "    qdata = Quandl.get(list(my_securities), returns=\"pandas\", authtoken=\"TzTcmaHpPQtRD3s_g2Z3\")\n",
    "    return qdata\n",
    "raw_data = fetch_quandl(('EOD/PBE', 'EOD/XBI'))\n",
    "raw_data = raw_data['2013-12-02':'2015-12-31'];\n",
    "\n",
    "#clean and make data look nicer\n",
    "def clean_quandl_columns(dataframe):\n",
    "    replacement_columns = {}\n",
    "    for c in dataframe.columns:\n",
    "        series_name, variable = c.split(' - ')\n",
    "        source_name, asset = series_name.split('.')\n",
    "        replacement_columns[c] = asset+\":\"+variable\n",
    "    renamed_data = dataframe.rename(columns=replacement_columns)\n",
    "    return renamed_data\n",
    "renamed_data = clean_quandl_columns(raw_data)\n",
    "#renamed_data.tail()\n"
   ]
  },
  {
   "cell_type": "code",
   "execution_count": 4,
   "metadata": {
    "collapsed": false
   },
   "outputs": [],
   "source": [
    "pd.options.mode.chained_assignment = None    #mute the warning\n",
    "df2 = renamed_data[[\"PBE:Adj_Volume\",\"PBE:Adj_Close\",\"XBI:Adj_Volume\",\"XBI:Adj_Close\"]]\n",
    "df2.columns = [\"A:Adj_Volume\", \"A:Adj_Close\", \"B:Adj_Volume\", \"B:Adj_Close\"]\n",
    "df2.ix[:,'Nt'] = np.nan"
   ]
  },
  {
   "cell_type": "code",
   "execution_count": 5,
   "metadata": {
    "collapsed": false,
    "scrolled": true
   },
   "outputs": [],
   "source": [
    "#Get the 15-day median of rolling volume as required\n",
    "DollarVolume = df2['A:Adj_Close']  * df2['A:Adj_Volume']\n",
    "N = 15\n",
    "Ntdata = DollarVolume.rolling(center=False,window =N).median()\n",
    "#df2.ix[N-1:,'Nt'] = Ntdata\n",
    "df2['month'] = df2.index.month\n",
    "\n",
    "#Derive a column that indicate end of month\n",
    "df2['endofmonth'] = df2.month-df2.month.shift(-1)\n",
    "df2.ix[-1,'endofmonth']=0\n",
    "df2['endofmonth'][abs(df2['endofmonth'])>0] =1"
   ]
  },
  {
   "cell_type": "code",
   "execution_count": 6,
   "metadata": {
    "collapsed": false,
    "scrolled": false
   },
   "outputs": [
    {
     "data": {
      "text/html": [
       "<div>\n",
       "<table border=\"1\" class=\"dataframe\">\n",
       "  <thead>\n",
       "    <tr style=\"text-align: right;\">\n",
       "      <th></th>\n",
       "      <th>A:Adj_Volume</th>\n",
       "      <th>A:Adj_Close</th>\n",
       "      <th>B:Adj_Volume</th>\n",
       "      <th>B:Adj_Close</th>\n",
       "      <th>Nt</th>\n",
       "      <th>month</th>\n",
       "      <th>endofmonth</th>\n",
       "    </tr>\n",
       "    <tr>\n",
       "      <th>Date</th>\n",
       "      <th></th>\n",
       "      <th></th>\n",
       "      <th></th>\n",
       "      <th></th>\n",
       "      <th></th>\n",
       "      <th></th>\n",
       "      <th></th>\n",
       "    </tr>\n",
       "  </thead>\n",
       "  <tbody>\n",
       "    <tr>\n",
       "      <th>2013-12-02</th>\n",
       "      <td>48800.0</td>\n",
       "      <td>37.144366</td>\n",
       "      <td>2586600.0</td>\n",
       "      <td>42.889812</td>\n",
       "      <td>NaN</td>\n",
       "      <td>12</td>\n",
       "      <td>0.0</td>\n",
       "    </tr>\n",
       "    <tr>\n",
       "      <th>2013-12-03</th>\n",
       "      <td>62400.0</td>\n",
       "      <td>36.593788</td>\n",
       "      <td>1720200.0</td>\n",
       "      <td>42.360147</td>\n",
       "      <td>NaN</td>\n",
       "      <td>12</td>\n",
       "      <td>0.0</td>\n",
       "    </tr>\n",
       "    <tr>\n",
       "      <th>2013-12-04</th>\n",
       "      <td>56300.0</td>\n",
       "      <td>36.363725</td>\n",
       "      <td>714900.0</td>\n",
       "      <td>42.343799</td>\n",
       "      <td>NaN</td>\n",
       "      <td>12</td>\n",
       "      <td>0.0</td>\n",
       "    </tr>\n",
       "    <tr>\n",
       "      <th>2013-12-05</th>\n",
       "      <td>32000.0</td>\n",
       "      <td>36.220181</td>\n",
       "      <td>321600.0</td>\n",
       "      <td>41.820673</td>\n",
       "      <td>NaN</td>\n",
       "      <td>12</td>\n",
       "      <td>0.0</td>\n",
       "    </tr>\n",
       "    <tr>\n",
       "      <th>2013-12-06</th>\n",
       "      <td>47100.0</td>\n",
       "      <td>36.446312</td>\n",
       "      <td>388200.0</td>\n",
       "      <td>41.908950</td>\n",
       "      <td>NaN</td>\n",
       "      <td>12</td>\n",
       "      <td>0.0</td>\n",
       "    </tr>\n",
       "  </tbody>\n",
       "</table>\n",
       "</div>"
      ],
      "text/plain": [
       "            A:Adj_Volume  A:Adj_Close  B:Adj_Volume  B:Adj_Close  Nt  month  \\\n",
       "Date                                                                          \n",
       "2013-12-02       48800.0    37.144366     2586600.0    42.889812 NaN     12   \n",
       "2013-12-03       62400.0    36.593788     1720200.0    42.360147 NaN     12   \n",
       "2013-12-04       56300.0    36.363725      714900.0    42.343799 NaN     12   \n",
       "2013-12-05       32000.0    36.220181      321600.0    41.820673 NaN     12   \n",
       "2013-12-06       47100.0    36.446312      388200.0    41.908950 NaN     12   \n",
       "\n",
       "            endofmonth  \n",
       "Date                    \n",
       "2013-12-02         0.0  \n",
       "2013-12-03         0.0  \n",
       "2013-12-04         0.0  \n",
       "2013-12-05         0.0  \n",
       "2013-12-06         0.0  "
      ]
     },
     "execution_count": 6,
     "metadata": {},
     "output_type": "execute_result"
    }
   ],
   "source": [
    "# briefly see the data\n",
    "df2.head()"
   ]
  },
  {
   "cell_type": "markdown",
   "metadata": {},
   "source": [
    "# Build the Strategy"
   ]
  },
  {
   "cell_type": "code",
   "execution_count": 7,
   "metadata": {
    "collapsed": false
   },
   "outputs": [],
   "source": [
    "# building the stragety:\n",
    "# M: M day avg return\n",
    "# g: enter if abs(A - B) greater than g\n",
    "# f: quit if abs(A - B) smaller than f\n",
    "# s: stoploss if current cumulative ret <  - K*s\n",
    "\n",
    "def run_strat(df2, M, g, j, s):\n",
    "    #or we could use simple\n",
    "    #df2['A_Mret'] = df2['A:Adj_Close'].pct_change(periods = M-1)\n",
    "    #df2['B_Mret'] = df2['B:Adj_Close'].pct_change(periods = M-1)\n",
    "    tb = df2\n",
    "    tb['A_Mret'] = tb['A:Adj_Close'].rolling(M).apply(lambda x: np.log(x[-1]/x[0]))\n",
    "    tb['B_Mret'] = tb['B:Adj_Close'].rolling(M).apply(lambda x: np.log(x[-1]/x[0]))\n",
    "    tb['Diff_Mret'] = tb['A_Mret'] - tb['B_Mret'] #diff or Mret\n",
    "    tb['Stoplose'] =0 #stoploss indicator\n",
    "    tradingday = max(M, 15)\n",
    "    \n",
    "    preidx = tb.index[tradingday-1]\n",
    "    testdata = tb[tradingday:];\n",
    "    entry_gtc = 0 #entry gross traded capital\n",
    "    A_Pos_i = 0 # Position of stock A in time i\n",
    "    B_Pos_i = 0\n",
    "    daypnl =[]\n",
    "    cur_ret = 0\n",
    "    for i, eom in zip(testdata.index, testdata.endofmonth):\n",
    "        dollar_size = tb.ix[i, 'Nt'] / 100 #* tb.ix[i, 'A:Adj_Close']\n",
    "        dayret = (tb.ix[i, 'A:Adj_Close'] - tb.ix[preidx, 'A:Adj_Close']) * A_Pos_i  + \\\n",
    "                (tb.ix[i, 'B:Adj_Close'] - tb.ix[preidx, 'B:Adj_Close']) * B_Pos_i\n",
    "        daypnl.append(dayret)\n",
    "        cur_ret += dayret\n",
    "        #if end of month, close position\n",
    "        if(abs(eom)> 0.1):\n",
    "            A_Pos_i = 0\n",
    "            B_Pos_i = 0\n",
    "            entry_gtc = 0\n",
    "            cur_ret = 0\n",
    "        #if satisfy stoploss, then stoploss\n",
    "        elif(abs(entry_gtc)>1 and cur_ret/entry_gtc <  -s):\n",
    "            A_Pos_i = 0\n",
    "            B_Pos_i = 0\n",
    "            entry_gtc = 0\n",
    "            cur_ret = 0\n",
    "        #if satisfy buy or sell, then get position\n",
    "        elif(abs(A_Pos_i)<1 and(abs(tb.ix[i, 'Diff_Mret']) > g)):\n",
    "            A_Pos_i = - np.sign(abs(tb.ix[i, 'Diff_Mret']))* int(round(dollar_size / tb.ix[i, 'A:Adj_Close'])) \n",
    "            B_Pos_i = + np.sign(abs(tb.ix[i, 'Diff_Mret']))* int(round(dollar_size / tb.ix[i, 'B:Adj_Close'])) \n",
    "            entry_gtc = abs(A_Pos_i * tb.ix[i, 'A:Adj_Close']) + \\\n",
    "                abs(B_Pos_i * tb.ix[i, 'B:Adj_Close'])\n",
    "        #if satisfy close position, then close\n",
    "        elif (abs(tb.ix[i, 'Diff_Mret'])) < j or ((tb.ix[i, 'Diff_Mret']* tb.ix[preidx, 'Diff_Mret']) < 0):\n",
    "            A_Pos_i = 0\n",
    "            B_Pos_i = 0\n",
    "            entry_gtc = 0\n",
    "            cur_ret = 0\n",
    "        preidx = i\n",
    "    pnl = np.cumsum(daypnl)\n",
    "    pnl_final = sum(daypnl)\n",
    "    return (pnl, pnl_final)"
   ]
  },
  {
   "cell_type": "code",
   "execution_count": 8,
   "metadata": {
    "collapsed": false,
    "scrolled": true
   },
   "outputs": [
    {
     "name": "stdout",
     "output_type": "stream",
     "text": [
      "0.1094050407409668\n"
     ]
    }
   ],
   "source": [
    "#Run one strat and test running time\n",
    "M, g, j, s = [10, 0.03, 0.005, 0.01]\n",
    "from time import time\n",
    "t1 = time()\n",
    "(pnl, pnl_final) = run_strat(df2, M, g, j, s)\n",
    "t2 = time()\n",
    "print (t2-t1)   \n"
   ]
  },
  {
   "cell_type": "code",
   "execution_count": 9,
   "metadata": {
    "collapsed": false
   },
   "outputs": [
    {
     "data": {
      "text/plain": [
       "[<matplotlib.lines.Line2D at 0x2a81f53bbe0>]"
      ]
     },
     "execution_count": 9,
     "metadata": {},
     "output_type": "execute_result"
    },
    {
     "data": {
      "image/png": "[encoded data removed]",
      "text/plain": [
       "<matplotlib.figure.Figure at 0x2a81bf6b208>"
      ]
     },
     "metadata": {},
     "output_type": "display_data"
    }
   ],
   "source": [
    "#see the P&L for one strategy\n",
    "plt.plot(pnl)"
   ]
  },
  {
   "cell_type": "markdown",
   "metadata": {
    "collapsed": false
   },
   "source": [
    "# Analyze the the effect of different parameter"
   ]
  },
  {
   "cell_type": "markdown",
   "metadata": {},
   "source": [
    "Since the stop loss is seldom used, first we keep s stable and change g,f and see what will happen"
   ]
  },
  {
   "cell_type": "code",
   "execution_count": 10,
   "metadata": {
    "collapsed": false
   },
   "outputs": [],
   "source": [
    "# draw heat-map for illustration\n",
    "def drawMap(df2, M,g,j,s,ax):\n",
    "    column_names = ['M','g','j','s','pnl'];\n",
    "    result = pd.DataFrame(columns=column_names)\n",
    "    for i in range(0, len(g)):\n",
    "        for k in range(0, len(j)):\n",
    "            (pnl, pnl_final) = run_strat(df2, M, g[i], j[k], s)\n",
    "            #result[j][k] = pnl_final\n",
    "            a = pd.DataFrame([[M, g[i], j[k], s,pnl_final]],columns=column_names )\n",
    "            result = result.append(a ,ignore_index=True)\n",
    "    rs = result.pivot(\"g\",\"j\",\"pnl\")\n",
    "    sns.heatmap(rs, ax=ax)\n",
    "    ax.set_title('M = '+str(M))\n",
    "    return\n"
   ]
  },
  {
   "cell_type": "code",
   "execution_count": 11,
   "metadata": {
    "collapsed": false
   },
   "outputs": [
    {
     "data": {
      "image/png": "[encoded data removed]",
      "text/plain": [
       "<matplotlib.figure.Figure at 0x2a81f5b32b0>"
      ]
     },
     "metadata": {},
     "output_type": "display_data"
    }
   ],
   "source": [
    "M=[5,10,15,20]\n",
    "g = np.linspace(0.005,0.03,num=6)\n",
    "j = np.linspace(0.00001,0.00491, num = 8)\n",
    "s = 0.01\n",
    "#result = np.zeros((len(g),len(f))) \n",
    "fig,axn = plt.subplots(2, 2, sharex=True, sharey=True, figsize=(10,10))\n",
    "for i, ax in enumerate(axn.flat):\n",
    "    drawMap(df2, M[i],g,j,s,ax)\n"
   ]
  },
  {
   "cell_type": "markdown",
   "metadata": {
    "collapsed": false
   },
   "source": [
    "From the chart, we would see that we need to firstly pick a good M, and then as g is in the range, the higher the better.\n",
    "For j (take profit), there is not trend for it."
   ]
  },
  {
   "cell_type": "code",
   "execution_count": null,
   "metadata": {
    "collapsed": false
   },
   "outputs": [],
   "source": []
  },
  {
   "cell_type": "markdown",
   "metadata": {},
   "source": [
    "# Find the global max with fix M"
   ]
  },
  {
   "cell_type": "code",
   "execution_count": 14,
   "metadata": {
    "collapsed": false
   },
   "outputs": [
    {
     "name": "stdout",
     "output_type": "stream",
     "text": [
      "Optimization terminated successfully.\n",
      "         Current function value: -4392.915137\n",
      "         Iterations: 15\n",
      "         Function evaluations: 45\n"
     ]
    },
    {
     "data": {
      "text/plain": [
       "array([ 0.02943056,  0.01068056,  0.00974537])"
      ]
     },
     "execution_count": 14,
     "metadata": {},
     "output_type": "execute_result"
    }
   ],
   "source": [
    "# find the global max with fix M\n",
    "# actually this type of function does not work good for optimization \n",
    "from scipy.optimize import fmin\n",
    "M = 10\n",
    "def f(t): \n",
    "    g,j,s = t\n",
    "    (pnl, pnl_final) = run_strat(df2, M, g, j, s)\n",
    "    return -pnl_final\n",
    "fmin(f,np.array([ 0.03,0.01,0.01]))\n"
   ]
  },
  {
   "cell_type": "markdown",
   "metadata": {},
   "source": [
    "Actually using optimize here is not very applicable. Changing parameter will affect the result a lot. We'd better run a brute force search to find the maximum"
   ]
  },
  {
   "cell_type": "markdown",
   "metadata": {},
   "source": [
    "# Alternative way to write algorithm, with detailed output"
   ]
  },
  {
   "cell_type": "markdown",
   "metadata": {},
   "source": [
    "Here is a slow strategy, but we can see everyday Position of two securities, daily pnl, and how strategy is decided everyday\n"
   ]
  },
  {
   "cell_type": "code",
   "execution_count": 15,
   "metadata": {
    "collapsed": false
   },
   "outputs": [],
   "source": [
    "\n",
    "def run_strat_with_table(df2, M, g, f, s):\n",
    "    tb = df2\n",
    "    tb['A_Pos'] = 0\n",
    "    tb['B_Pos'] = 0\n",
    "    tb['dayret'] = 0\n",
    "    tb['A_Mret'] = tb['A:Adj_Close'].rolling(M).apply(lambda x: np.log(x[-1]/x[0]))\n",
    "    tb['B_Mret'] = tb['B:Adj_Close'].rolling(M).apply(lambda x: np.log(x[-1]/x[0]))\n",
    "    tb['Stoplose'] =0 #stoploss indicator\n",
    "    tb['Diff_Mret'] = tb['A_Mret'] - tb['B_Mret'] #diff or Mret\n",
    "    preidx = tb.index[29]\n",
    "    testdata = tb[30:]\n",
    "    entry_gtc, entry_A, entry_B = [0,0,0]\n",
    "    daypnl =[]\n",
    "    for i, eom in zip(testdata.index, testdata.endofmonth):\n",
    "        cur_pos_pnl = (tb.ix[i, 'A:Adj_Close'] - entry_A) * tb.ix[preidx, 'A_Pos'] + \\\n",
    "                (tb.ix[i, 'B:Adj_Close'] - entry_B) * tb.ix[preidx, 'B_Pos']\n",
    "        dollar_size = tb.ix[i, 'Nt'] / 100 #* tb.ix[i, 'A:Adj_Close']\n",
    "        dayret = (tb.ix[i, 'A:Adj_Close'] - tb.ix[preidx, 'A:Adj_Close']) * tb.ix[preidx, 'A_Pos']  + \\\n",
    "                (tb.ix[i, 'B:Adj_Close'] - tb.ix[preidx, 'B:Adj_Close']) * tb.ix[preidx, 'B_Pos']\n",
    "        daypnl.append(dayret)\n",
    "        tb.ix[i,'dayret'] = dayret\n",
    "        if(abs(eom)> 0.1):\n",
    "            tb.ix[i, 'A_Pos'] = 0\n",
    "            tb.ix[i, 'B_Pos'] = 0\n",
    "            entry_gtc = 0\n",
    "        elif( cur_pos_pnl/entry_gtc) <  -s:\n",
    "            tb.ix[i, 'A_Pos']=0; tb.ix[i, 'B_Pos']=0; entry_gtc =0;\n",
    "            tb.loc[i,'Stoplose'] =1\n",
    "        elif(tb.ix[preidx, 'A_Pos']>-1 and(tb.ix[i, 'Diff_Mret'] > g)):\n",
    "            tb.ix[i, 'A_Pos'] = - int(round(dollar_size / tb.ix[i, 'A:Adj_Close'])) \n",
    "            tb.ix[i, 'B_Pos'] = + int(round(dollar_size / tb.ix[i, 'B:Adj_Close'])) \n",
    "            entry_A = tb.ix[i, 'A:Adj_Close'];\n",
    "            entry_B = tb.ix[i, 'B:Adj_Close'];\n",
    "            entry_gtc = abs(tb.ix[i, 'A_Pos'] * entry_B) + abs(tb.ix[i, 'B_Pos'] * entry_B)\n",
    "        elif(tb.ix[preidx, 'A_Pos']<1 and (-tb.ix[i, 'Diff_Mret'] > g)):\n",
    "            tb.ix[i, 'A_Pos'] = + int(round(dollar_size / tb.ix[i, 'A:Adj_Close'] ))\n",
    "            tb.ix[i, 'B_Pos'] = - int(round(dollar_size / tb.ix[i, 'B:Adj_Close'] )) \n",
    "            entry_A = tb.ix[i, 'A:Adj_Close'];\n",
    "            entry_B = tb.ix[i, 'B:Adj_Close'];\n",
    "            entry_gtc = abs(tb.ix[i, 'A_Pos'] * tb.ix[i, 'A:Adj_Close']) + \\\n",
    "                abs(tb.ix[i, 'B_Pos'] * tb.ix[i, 'B:Adj_Close'])  \n",
    "        elif (abs(tb.ix[i, 'Diff_Mret'])) < f:\n",
    "            tb.ix[i, 'A_Pos']=0; tb.ix[i, 'B_Pos']=0; entry_gtc =0;\n",
    "        elif (tb.ix[i, 'Diff_Mret']* tb.ix[preidx, 'Diff_Mret']) < 0:\n",
    "            tb.ix[i, 'A_Pos']=0; tb.ix[i, 'B_Pos']=0; entry_gtc =0;\n",
    "        else:\n",
    "            tb.ix[i, 'A_Pos']=tb.ix[preidx, 'A_Pos']\n",
    "            tb.ix[i, 'B_Pos']=tb.ix[preidx, 'B_Pos']\n",
    "        tb.ix[i, 'entry_gtc'] = entry_gtc\n",
    "        preidx = i\n",
    "    pnl = np.cumsum(daypnl)\n",
    "    pnl_final = sum(daypnl)\n",
    "    return (tb, pnl, pnl_final)\n"
   ]
  },
  {
   "cell_type": "code",
   "execution_count": 16,
   "metadata": {
    "collapsed": false
   },
   "outputs": [
    {
     "data": {
      "text/plain": [
       "3.388011932373047"
      ]
     },
     "execution_count": 16,
     "metadata": {},
     "output_type": "execute_result"
    }
   ],
   "source": [
    "M, g, j, s = [10, 0.03, 0.005, 0.01]\n",
    "from time import time\n",
    "t1 = time()\n",
    "(res, pnl, pnl_final) = run_strat_with_table(df2, M, g, j, s)\n",
    "t2 = time()\n",
    "t2-t1    "
   ]
  },
  {
   "cell_type": "code",
   "execution_count": 17,
   "metadata": {
    "collapsed": false
   },
   "outputs": [
    {
     "data": {
      "text/html": [
       "<div>\n",
       "<table border=\"1\" class=\"dataframe\">\n",
       "  <thead>\n",
       "    <tr style=\"text-align: right;\">\n",
       "      <th></th>\n",
       "      <th>A:Adj_Volume</th>\n",
       "      <th>A:Adj_Close</th>\n",
       "      <th>B:Adj_Volume</th>\n",
       "      <th>B:Adj_Close</th>\n",
       "      <th>Nt</th>\n",
       "      <th>month</th>\n",
       "      <th>endofmonth</th>\n",
       "      <th>A_Mret</th>\n",
       "      <th>B_Mret</th>\n",
       "      <th>Diff_Mret</th>\n",
       "      <th>Stoplose</th>\n",
       "      <th>A_Pos</th>\n",
       "      <th>B_Pos</th>\n",
       "      <th>dayret</th>\n",
       "      <th>entry_gtc</th>\n",
       "    </tr>\n",
       "    <tr>\n",
       "      <th>Date</th>\n",
       "      <th></th>\n",
       "      <th></th>\n",
       "      <th></th>\n",
       "      <th></th>\n",
       "      <th></th>\n",
       "      <th></th>\n",
       "      <th></th>\n",
       "      <th></th>\n",
       "      <th></th>\n",
       "      <th></th>\n",
       "      <th></th>\n",
       "      <th></th>\n",
       "      <th></th>\n",
       "      <th></th>\n",
       "      <th></th>\n",
       "    </tr>\n",
       "  </thead>\n",
       "  <tbody>\n",
       "    <tr>\n",
       "      <th>2015-12-24</th>\n",
       "      <td>4579.0</td>\n",
       "      <td>50.56</td>\n",
       "      <td>748447.0</td>\n",
       "      <td>70.797534</td>\n",
       "      <td>1.617117e+06</td>\n",
       "      <td>12</td>\n",
       "      <td>0.0</td>\n",
       "      <td>0.061726</td>\n",
       "      <td>0.077579</td>\n",
       "      <td>-0.015853</td>\n",
       "      <td>0</td>\n",
       "      <td>0</td>\n",
       "      <td>0</td>\n",
       "      <td>0.0</td>\n",
       "      <td>0.0</td>\n",
       "    </tr>\n",
       "    <tr>\n",
       "      <th>2015-12-28</th>\n",
       "      <td>20450.0</td>\n",
       "      <td>50.49</td>\n",
       "      <td>2537425.0</td>\n",
       "      <td>69.638884</td>\n",
       "      <td>1.463006e+06</td>\n",
       "      <td>12</td>\n",
       "      <td>0.0</td>\n",
       "      <td>0.063482</td>\n",
       "      <td>0.073016</td>\n",
       "      <td>-0.009534</td>\n",
       "      <td>0</td>\n",
       "      <td>0</td>\n",
       "      <td>0</td>\n",
       "      <td>-0.0</td>\n",
       "      <td>0.0</td>\n",
       "    </tr>\n",
       "    <tr>\n",
       "      <th>2015-12-29</th>\n",
       "      <td>42151.0</td>\n",
       "      <td>51.31</td>\n",
       "      <td>2112230.0</td>\n",
       "      <td>71.456766</td>\n",
       "      <td>1.617117e+06</td>\n",
       "      <td>12</td>\n",
       "      <td>0.0</td>\n",
       "      <td>0.051468</td>\n",
       "      <td>0.070550</td>\n",
       "      <td>-0.019082</td>\n",
       "      <td>0</td>\n",
       "      <td>0</td>\n",
       "      <td>0</td>\n",
       "      <td>0.0</td>\n",
       "      <td>0.0</td>\n",
       "    </tr>\n",
       "    <tr>\n",
       "      <th>2015-12-30</th>\n",
       "      <td>21864.0</td>\n",
       "      <td>50.99</td>\n",
       "      <td>1469633.0</td>\n",
       "      <td>70.777557</td>\n",
       "      <td>1.463006e+06</td>\n",
       "      <td>12</td>\n",
       "      <td>0.0</td>\n",
       "      <td>0.017460</td>\n",
       "      <td>0.018078</td>\n",
       "      <td>-0.000618</td>\n",
       "      <td>0</td>\n",
       "      <td>0</td>\n",
       "      <td>0</td>\n",
       "      <td>-0.0</td>\n",
       "      <td>0.0</td>\n",
       "    </tr>\n",
       "    <tr>\n",
       "      <th>2015-12-31</th>\n",
       "      <td>18465.0</td>\n",
       "      <td>50.52</td>\n",
       "      <td>1302527.0</td>\n",
       "      <td>70.118325</td>\n",
       "      <td>1.424342e+06</td>\n",
       "      <td>12</td>\n",
       "      <td>0.0</td>\n",
       "      <td>0.021778</td>\n",
       "      <td>0.019823</td>\n",
       "      <td>0.001955</td>\n",
       "      <td>0</td>\n",
       "      <td>0</td>\n",
       "      <td>0</td>\n",
       "      <td>-0.0</td>\n",
       "      <td>0.0</td>\n",
       "    </tr>\n",
       "  </tbody>\n",
       "</table>\n",
       "</div>"
      ],
      "text/plain": [
       "            A:Adj_Volume  A:Adj_Close  B:Adj_Volume  B:Adj_Close  \\\n",
       "Date                                                               \n",
       "2015-12-24        4579.0        50.56      748447.0    70.797534   \n",
       "2015-12-28       20450.0        50.49     2537425.0    69.638884   \n",
       "2015-12-29       42151.0        51.31     2112230.0    71.456766   \n",
       "2015-12-30       21864.0        50.99     1469633.0    70.777557   \n",
       "2015-12-31       18465.0        50.52     1302527.0    70.118325   \n",
       "\n",
       "                      Nt  month  endofmonth    A_Mret    B_Mret  Diff_Mret  \\\n",
       "Date                                                                         \n",
       "2015-12-24  1.617117e+06     12         0.0  0.061726  0.077579  -0.015853   \n",
       "2015-12-28  1.463006e+06     12         0.0  0.063482  0.073016  -0.009534   \n",
       "2015-12-29  1.617117e+06     12         0.0  0.051468  0.070550  -0.019082   \n",
       "2015-12-30  1.463006e+06     12         0.0  0.017460  0.018078  -0.000618   \n",
       "2015-12-31  1.424342e+06     12         0.0  0.021778  0.019823   0.001955   \n",
       "\n",
       "            Stoplose  A_Pos  B_Pos  dayret  entry_gtc  \n",
       "Date                                                   \n",
       "2015-12-24         0      0      0     0.0        0.0  \n",
       "2015-12-28         0      0      0    -0.0        0.0  \n",
       "2015-12-29         0      0      0     0.0        0.0  \n",
       "2015-12-30         0      0      0    -0.0        0.0  \n",
       "2015-12-31         0      0      0    -0.0        0.0  "
      ]
     },
     "execution_count": 17,
     "metadata": {},
     "output_type": "execute_result"
    }
   ],
   "source": [
    "res.tail()"
   ]
  },
  {
   "cell_type": "code",
   "execution_count": null,
   "metadata": {
    "collapsed": true
   },
   "outputs": [],
   "source": []
  }
 ],
 "metadata": {
  "kernelspec": {
   "display_name": "Python [default]",
   "language": "python",
   "name": "python3"
  },
  "language_info": {
   "codemirror_mode": {
    "name": "ipython",
    "version": 3
   },
   "file_extension": ".py",
   "mimetype": "text/x-python",
   "name": "python",
   "nbconvert_exporter": "python",
   "pygments_lexer": "ipython3",
   "version": "3.5.2"
  }
 },
 "nbformat": 4,
 "nbformat_minor": 0
}
